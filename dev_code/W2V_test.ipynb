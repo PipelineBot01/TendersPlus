{
 "cells": [
  {
   "cell_type": "code",
   "execution_count": 1,
   "id": "3c1e22ad",
   "metadata": {},
   "outputs": [],
   "source": [
    "from gensim import models"
   ]
  },
  {
   "cell_type": "code",
   "execution_count": 48,
   "id": "b34d43f3",
   "metadata": {},
   "outputs": [],
   "source": [
    "import pandas as pd\n",
    "import re"
   ]
  },
  {
   "cell_type": "code",
   "execution_count": 3,
   "id": "d85c57d3",
   "metadata": {},
   "outputs": [],
   "source": [
    "class Tenders_W2V:\n",
    "    def __init__(self):\n",
    "        self.model = models.KeyedVectors.load_word2vec_format(\n",
    "            '../W2V/GoogleNews-vectors-negative300-SLIM.bin', binary=True)\n",
    "    def get_relation(self, x, y):\n",
    "        if x == y: return 1\n",
    "        value = 0\n",
    "        try:\n",
    "            value = self.model.rank(x, y)\n",
    "        except:\n",
    "            pass\n",
    "        return value"
   ]
  },
  {
   "cell_type": "code",
   "execution_count": 6,
   "id": "58a386fd",
   "metadata": {},
   "outputs": [],
   "source": [
    "twv = Tenders_W2V()"
   ]
  },
  {
   "cell_type": "code",
   "execution_count": 4,
   "id": "7db5a1ef",
   "metadata": {},
   "outputs": [
    {
     "data": {
      "text/plain": [
       "25"
      ]
     },
     "execution_count": 4,
     "metadata": {},
     "output_type": "execute_result"
    }
   ],
   "source": [
    "twv.get_relation('happy', 'sad')"
   ]
  },
  {
   "cell_type": "code",
   "execution_count": 4,
   "id": "cd8bb218",
   "metadata": {},
   "outputs": [],
   "source": [
    "tenders_df = pd.read_csv('Tenders/tmp_tenders.csv')[['_id','key_0','key_orig_0','key_1','key_orig_1','key_2','key_orig_2','key_3','key_orig_3','key_4','key_orig_4']]"
   ]
  },
  {
   "cell_type": "code",
   "execution_count": 2,
   "id": "1883d318",
   "metadata": {},
   "outputs": [],
   "source": [
    "tenders_df = pd.read_csv('remove_num_tenders.csv')"
   ]
  },
  {
   "cell_type": "code",
   "execution_count": 58,
   "id": "d8c7b8b3",
   "metadata": {},
   "outputs": [],
   "source": [
    "re_col = ['_id', 'key_0', 'key_1', 'key_2', 'key_3', 'key_4']\n",
    "re_orig_col = ['_id', 'key_orig_0', 'key_orig_1', 'key_orig_2', 'key_orig_3', 'key_orig_4']\n",
    "# for i in tenders_df.columns:\n",
    "#     if 'orig' in i: re.append(i)\n",
    "input_df = tenders_df[re_col]"
   ]
  },
  {
   "cell_type": "code",
   "execution_count": 55,
   "id": "305308ce",
   "metadata": {},
   "outputs": [
    {
     "data": {
      "text/plain": [
       "['6162aa1fe1b7f5c73e6fdfd0',\n",
       " 'inform',\n",
       " 'infrastructur',\n",
       " 'research',\n",
       " 'nation',\n",
       " 'noie']"
      ]
     },
     "execution_count": 55,
     "metadata": {},
     "output_type": "execute_result"
    }
   ],
   "source": [
    "input_df.iloc[0].values.tolist()"
   ]
  },
  {
   "cell_type": "code",
   "execution_count": 4,
   "id": "7e3e8715",
   "metadata": {},
   "outputs": [],
   "source": [
    "word_df = input_df.melt(id_vars = '_id')"
   ]
  },
  {
   "cell_type": "code",
   "execution_count": 5,
   "id": "50663e8f",
   "metadata": {},
   "outputs": [
    {
     "data": {
      "text/html": [
       "<div>\n",
       "<style scoped>\n",
       "    .dataframe tbody tr th:only-of-type {\n",
       "        vertical-align: middle;\n",
       "    }\n",
       "\n",
       "    .dataframe tbody tr th {\n",
       "        vertical-align: top;\n",
       "    }\n",
       "\n",
       "    .dataframe thead th {\n",
       "        text-align: right;\n",
       "    }\n",
       "</style>\n",
       "<table border=\"1\" class=\"dataframe\">\n",
       "  <thead>\n",
       "    <tr style=\"text-align: right;\">\n",
       "      <th></th>\n",
       "      <th>_id</th>\n",
       "      <th>key_0</th>\n",
       "      <th>key_1</th>\n",
       "      <th>key_2</th>\n",
       "      <th>key_3</th>\n",
       "      <th>key_4</th>\n",
       "    </tr>\n",
       "  </thead>\n",
       "  <tbody>\n",
       "    <tr>\n",
       "      <th>954</th>\n",
       "      <td>6162aa1fe1b7f5c73e6fe38a</td>\n",
       "      <td>labour</td>\n",
       "      <td>model</td>\n",
       "      <td>suppli</td>\n",
       "      <td>gener</td>\n",
       "      <td>decis</td>\n",
       "    </tr>\n",
       "  </tbody>\n",
       "</table>\n",
       "</div>"
      ],
      "text/plain": [
       "                          _id   key_0  key_1   key_2  key_3  key_4\n",
       "954  6162aa1fe1b7f5c73e6fe38a  labour  model  suppli  gener  decis"
      ]
     },
     "execution_count": 5,
     "metadata": {},
     "output_type": "execute_result"
    }
   ],
   "source": [
    "input_df[input_df['_id']=='6162aa1fe1b7f5c73e6fe38a']"
   ]
  },
  {
   "cell_type": "code",
   "execution_count": 66,
   "id": "6b578295",
   "metadata": {},
   "outputs": [],
   "source": [
    "map_df = word_df.groupby('value')['_id'].apply(lambda x: list(set(x))).reset_index()"
   ]
  },
  {
   "cell_type": "code",
   "execution_count": 35,
   "id": "b3571cdd",
   "metadata": {},
   "outputs": [],
   "source": [
    "map_df.to_csv('map_df.csv', index = 0)"
   ]
  },
  {
   "cell_type": "code",
   "execution_count": 36,
   "id": "52a1ca17",
   "metadata": {},
   "outputs": [],
   "source": [
    "# map_df = pd.read_csv('map_df.csv')"
   ]
  },
  {
   "cell_type": "code",
   "execution_count": 67,
   "id": "983b870b",
   "metadata": {},
   "outputs": [
    {
     "data": {
      "text/html": [
       "<div>\n",
       "<style scoped>\n",
       "    .dataframe tbody tr th:only-of-type {\n",
       "        vertical-align: middle;\n",
       "    }\n",
       "\n",
       "    .dataframe tbody tr th {\n",
       "        vertical-align: top;\n",
       "    }\n",
       "\n",
       "    .dataframe thead th {\n",
       "        text-align: right;\n",
       "    }\n",
       "</style>\n",
       "<table border=\"1\" class=\"dataframe\">\n",
       "  <thead>\n",
       "    <tr style=\"text-align: right;\">\n",
       "      <th></th>\n",
       "      <th>value</th>\n",
       "      <th>_id</th>\n",
       "    </tr>\n",
       "  </thead>\n",
       "  <tbody>\n",
       "    <tr>\n",
       "      <th>0</th>\n",
       "      <td>aaa</td>\n",
       "      <td>[6162aa1fe1b7f5c73e6fe1a8]</td>\n",
       "    </tr>\n",
       "    <tr>\n",
       "      <th>1</th>\n",
       "      <td>aad</td>\n",
       "      <td>[6162aa1fe1b7f5c73e6fe51b]</td>\n",
       "    </tr>\n",
       "    <tr>\n",
       "      <th>2</th>\n",
       "      <td>aai</td>\n",
       "      <td>[6162aa1fe1b7f5c73e6fea46]</td>\n",
       "    </tr>\n",
       "    <tr>\n",
       "      <th>3</th>\n",
       "      <td>aass</td>\n",
       "      <td>[6162aa1fe1b7f5c73e6fe537]</td>\n",
       "    </tr>\n",
       "    <tr>\n",
       "      <th>4</th>\n",
       "      <td>aaswa</td>\n",
       "      <td>[6162aa1fe1b7f5c73e6fe9c4]</td>\n",
       "    </tr>\n",
       "    <tr>\n",
       "      <th>...</th>\n",
       "      <td>...</td>\n",
       "      <td>...</td>\n",
       "    </tr>\n",
       "    <tr>\n",
       "      <th>2497</th>\n",
       "      <td>yield</td>\n",
       "      <td>[6162aa1fe1b7f5c73e6fe82f, 6162aa1fe1b7f5c73e6...</td>\n",
       "    </tr>\n",
       "    <tr>\n",
       "      <th>2498</th>\n",
       "      <td>young</td>\n",
       "      <td>[6162aa1fe1b7f5c73e6fe952, 6162aa1fe1b7f5c73e6...</td>\n",
       "    </tr>\n",
       "    <tr>\n",
       "      <th>2499</th>\n",
       "      <td>youth</td>\n",
       "      <td>[6162aa1fe1b7f5c73e6fe0c8, 6162aa1fe1b7f5c73e6...</td>\n",
       "    </tr>\n",
       "    <tr>\n",
       "      <th>2500</th>\n",
       "      <td>zealand</td>\n",
       "      <td>[6162aa1fe1b7f5c73e6fe4f5]</td>\n",
       "    </tr>\n",
       "    <tr>\n",
       "      <th>2501</th>\n",
       "      <td>zone</td>\n",
       "      <td>[6162aa1fe1b7f5c73e6fe88f, 6162aa1fe1b7f5c73e6...</td>\n",
       "    </tr>\n",
       "  </tbody>\n",
       "</table>\n",
       "<p>2502 rows × 2 columns</p>\n",
       "</div>"
      ],
      "text/plain": [
       "        value                                                _id\n",
       "0         aaa                         [6162aa1fe1b7f5c73e6fe1a8]\n",
       "1         aad                         [6162aa1fe1b7f5c73e6fe51b]\n",
       "2         aai                         [6162aa1fe1b7f5c73e6fea46]\n",
       "3        aass                         [6162aa1fe1b7f5c73e6fe537]\n",
       "4       aaswa                         [6162aa1fe1b7f5c73e6fe9c4]\n",
       "...       ...                                                ...\n",
       "2497    yield  [6162aa1fe1b7f5c73e6fe82f, 6162aa1fe1b7f5c73e6...\n",
       "2498    young  [6162aa1fe1b7f5c73e6fe952, 6162aa1fe1b7f5c73e6...\n",
       "2499    youth  [6162aa1fe1b7f5c73e6fe0c8, 6162aa1fe1b7f5c73e6...\n",
       "2500  zealand                         [6162aa1fe1b7f5c73e6fe4f5]\n",
       "2501     zone  [6162aa1fe1b7f5c73e6fe88f, 6162aa1fe1b7f5c73e6...\n",
       "\n",
       "[2502 rows x 2 columns]"
      ]
     },
     "execution_count": 67,
     "metadata": {},
     "output_type": "execute_result"
    }
   ],
   "source": [
    "map_df"
   ]
  },
  {
   "cell_type": "code",
   "execution_count": 73,
   "id": "ccdd6fae",
   "metadata": {},
   "outputs": [
    {
     "data": {
      "text/html": [
       "<div>\n",
       "<style scoped>\n",
       "    .dataframe tbody tr th:only-of-type {\n",
       "        vertical-align: middle;\n",
       "    }\n",
       "\n",
       "    .dataframe tbody tr th {\n",
       "        vertical-align: top;\n",
       "    }\n",
       "\n",
       "    .dataframe thead th {\n",
       "        text-align: right;\n",
       "    }\n",
       "</style>\n",
       "<table border=\"1\" class=\"dataframe\">\n",
       "  <thead>\n",
       "    <tr style=\"text-align: right;\">\n",
       "      <th></th>\n",
       "      <th>index</th>\n",
       "      <th>ATM ID</th>\n",
       "      <th>Category</th>\n",
       "      <th>Description</th>\n",
       "      <th>Title</th>\n",
       "      <th>_id</th>\n",
       "      <th>raw_result</th>\n",
       "      <th>key_0</th>\n",
       "      <th>key_1</th>\n",
       "      <th>key_2</th>\n",
       "      <th>key_3</th>\n",
       "      <th>text</th>\n",
       "      <th>key_4</th>\n",
       "    </tr>\n",
       "  </thead>\n",
       "  <tbody>\n",
       "    <tr>\n",
       "      <th>2636</th>\n",
       "      <td>2636</td>\n",
       "      <td>FIN/007/20Notice7</td>\n",
       "      <td>Management advisory services</td>\n",
       "      <td>This notice is to provide interested parties w...</td>\n",
       "      <td>Industry Update – Management Advisory Services...</td>\n",
       "      <td>6162aa1fe1b7f5c73e6fea1c</td>\n",
       "      <td>[('phase commercial australian', 0.7604), ('co...</td>\n",
       "      <td>servic</td>\n",
       "      <td>advisori</td>\n",
       "      <td>manag</td>\n",
       "      <td>panel</td>\n",
       "      <td>this notice is to provide interested parties w...</td>\n",
       "      <td>australian</td>\n",
       "    </tr>\n",
       "  </tbody>\n",
       "</table>\n",
       "</div>"
      ],
      "text/plain": [
       "      index             ATM ID                      Category  \\\n",
       "2636   2636  FIN/007/20Notice7  Management advisory services   \n",
       "\n",
       "                                            Description  \\\n",
       "2636  This notice is to provide interested parties w...   \n",
       "\n",
       "                                                  Title  \\\n",
       "2636  Industry Update – Management Advisory Services...   \n",
       "\n",
       "                           _id  \\\n",
       "2636  6162aa1fe1b7f5c73e6fea1c   \n",
       "\n",
       "                                             raw_result   key_0     key_1  \\\n",
       "2636  [('phase commercial australian', 0.7604), ('co...  servic  advisori   \n",
       "\n",
       "      key_2  key_3                                               text  \\\n",
       "2636  manag  panel  this notice is to provide interested parties w...   \n",
       "\n",
       "           key_4  \n",
       "2636  australian  "
      ]
     },
     "execution_count": 73,
     "metadata": {},
     "output_type": "execute_result"
    }
   ],
   "source": [
    "test_df = tenders_df.sample(1)\n",
    "test_df"
   ]
  },
  {
   "cell_type": "code",
   "execution_count": 74,
   "id": "f270ecca",
   "metadata": {},
   "outputs": [],
   "source": [
    "result_list = []\n",
    "key_df = input_df[input_df['_id'] == test_df['_id'].values[0]]\n",
    "reg = r'\\'(.*?)\\''\n",
    "for i in list(key_df.columns)[1:]:\n",
    "#     result = re.findall(reg, map_df[map_df['value'] == key_df[i].values[0]]['_id'].values[0])\n",
    "    result = map_df[map_df['value'] == key_df[i].values[0]]['_id'].values[0]\n",
    "    result_list.append(result)"
   ]
  },
  {
   "cell_type": "code",
   "execution_count": 75,
   "id": "5e4be567",
   "metadata": {},
   "outputs": [],
   "source": [
    "key_0_set = set(result_list[0])\n",
    "key_0_set.remove(test_df['_id'].values[0])\n",
    "cnt_dict = {0:key_0_set}\n",
    "for idx in range(1, len(result_list)):\n",
    "    cnt_dict[idx] = cnt_dict[idx-1].intersection(set(result_list[idx]))"
   ]
  },
  {
   "cell_type": "code",
   "execution_count": 86,
   "id": "0df0d08c",
   "metadata": {
    "scrolled": true
   },
   "outputs": [
    {
     "data": {
      "text/plain": [
       "{'6162aa1fe1b7f5c73e6fe9cf',\n",
       " '6162aa1fe1b7f5c73e6fe9d8',\n",
       " '6162aa1fe1b7f5c73e6fe9d9',\n",
       " '6162aa1fe1b7f5c73e6fea2a',\n",
       " '6162aa1fe1b7f5c73e6fea54',\n",
       " '6162aa1fe1b7f5c73e6fea55',\n",
       " '6162aa1fe1b7f5c73e6fea56'}"
      ]
     },
     "execution_count": 86,
     "metadata": {},
     "output_type": "execute_result"
    }
   ],
   "source": [
    "cnt_dict[2]"
   ]
  },
  {
   "cell_type": "code",
   "execution_count": 91,
   "id": "b32facba",
   "metadata": {},
   "outputs": [
    {
     "data": {
      "text/plain": [
       "array(['This notice is to inform interested parties about a proposed whole-of-Australian Government Management Advisory Services Panel.'],\n",
       "      dtype=object)"
      ]
     },
     "execution_count": 91,
     "metadata": {},
     "output_type": "execute_result"
    }
   ],
   "source": [
    "tenders_df[tenders_df['_id'] == '6162aa1fe1b7f5c73e6fea55']['Description'].unique()"
   ]
  },
  {
   "cell_type": "code",
   "execution_count": 88,
   "id": "4e141593",
   "metadata": {},
   "outputs": [
    {
     "data": {
      "text/plain": [
       "array(['This notice is to provide interested parties with information about Phase 2 – Corporate and Phase 3 - Commercial of the Management Advisory Services Panel for the Australian Government.'],\n",
       "      dtype=object)"
      ]
     },
     "execution_count": 88,
     "metadata": {},
     "output_type": "execute_result"
    }
   ],
   "source": [
    "test_df['Description'].unique()"
   ]
  },
  {
   "cell_type": "code",
   "execution_count": null,
   "id": "44a594ef",
   "metadata": {},
   "outputs": [],
   "source": []
  },
  {
   "cell_type": "code",
   "execution_count": null,
   "id": "f10787e7",
   "metadata": {},
   "outputs": [],
   "source": []
  },
  {
   "cell_type": "code",
   "execution_count": null,
   "id": "bdaf07ba",
   "metadata": {},
   "outputs": [],
   "source": []
  },
  {
   "cell_type": "code",
   "execution_count": 12,
   "id": "2cb3e40f",
   "metadata": {},
   "outputs": [],
   "source": [
    "word_df['index'] = 0"
   ]
  },
  {
   "cell_type": "code",
   "execution_count": 13,
   "id": "bc36ff41",
   "metadata": {},
   "outputs": [],
   "source": [
    "outer_df = word_df.merge(word_df, on ='index',how='outer')"
   ]
  },
  {
   "cell_type": "code",
   "execution_count": 14,
   "id": "0cf58934",
   "metadata": {},
   "outputs": [],
   "source": [
    "outer_df = outer_df[outer_df['value_x'] != outer_df['value_y']]"
   ]
  },
  {
   "cell_type": "code",
   "execution_count": 15,
   "id": "a2131a3e",
   "metadata": {},
   "outputs": [],
   "source": [
    "def get_distance(row):\n",
    "    return twv.get_relation(row['value_x'], row['value_y'])"
   ]
  },
  {
   "cell_type": "code",
   "execution_count": 18,
   "id": "f16ce482",
   "metadata": {},
   "outputs": [],
   "source": [
    "outer_df['value'] = outer_df.apply(lambda x: get_distance(x), axis=1)"
   ]
  },
  {
   "cell_type": "code",
   "execution_count": 21,
   "id": "f3ac1adf",
   "metadata": {
    "collapsed": true
   },
   "outputs": [
    {
     "data": {
      "text/html": [
       "<div>\n",
       "<style scoped>\n",
       "    .dataframe tbody tr th:only-of-type {\n",
       "        vertical-align: middle;\n",
       "    }\n",
       "\n",
       "    .dataframe tbody tr th {\n",
       "        vertical-align: top;\n",
       "    }\n",
       "\n",
       "    .dataframe thead th {\n",
       "        text-align: right;\n",
       "    }\n",
       "</style>\n",
       "<table border=\"1\" class=\"dataframe\">\n",
       "  <thead>\n",
       "    <tr style=\"text-align: right;\">\n",
       "      <th></th>\n",
       "      <th>index</th>\n",
       "      <th>value_x</th>\n",
       "      <th>value_y</th>\n",
       "      <th>value</th>\n",
       "    </tr>\n",
       "  </thead>\n",
       "  <tbody>\n",
       "    <tr>\n",
       "      <th>1523</th>\n",
       "      <td>0</td>\n",
       "      <td>perth</td>\n",
       "      <td>project</td>\n",
       "      <td>298737</td>\n",
       "    </tr>\n",
       "    <tr>\n",
       "      <th>498</th>\n",
       "      <td>0</td>\n",
       "      <td>project</td>\n",
       "      <td>perth</td>\n",
       "      <td>298518</td>\n",
       "    </tr>\n",
       "    <tr>\n",
       "      <th>222</th>\n",
       "      <td>0</td>\n",
       "      <td>australia</td>\n",
       "      <td>fund</td>\n",
       "      <td>298341</td>\n",
       "    </tr>\n",
       "    <tr>\n",
       "      <th>509</th>\n",
       "      <td>0</td>\n",
       "      <td>fund</td>\n",
       "      <td>australia</td>\n",
       "      <td>298126</td>\n",
       "    </tr>\n",
       "    <tr>\n",
       "      <th>711</th>\n",
       "      <td>0</td>\n",
       "      <td>au</td>\n",
       "      <td>guidelines</td>\n",
       "      <td>295542</td>\n",
       "    </tr>\n",
       "    <tr>\n",
       "      <th>...</th>\n",
       "      <td>...</td>\n",
       "      <td>...</td>\n",
       "      <td>...</td>\n",
       "      <td>...</td>\n",
       "    </tr>\n",
       "    <tr>\n",
       "      <th>495</th>\n",
       "      <td>0</td>\n",
       "      <td>project</td>\n",
       "      <td>nii</td>\n",
       "      <td>0</td>\n",
       "    </tr>\n",
       "    <tr>\n",
       "      <th>1201</th>\n",
       "      <td>0</td>\n",
       "      <td>productivity</td>\n",
       "      <td>raaf</td>\n",
       "      <td>0</td>\n",
       "    </tr>\n",
       "    <tr>\n",
       "      <th>487</th>\n",
       "      <td>0</td>\n",
       "      <td>project</td>\n",
       "      <td>raaf</td>\n",
       "      <td>0</td>\n",
       "    </tr>\n",
       "    <tr>\n",
       "      <th>1209</th>\n",
       "      <td>0</td>\n",
       "      <td>productivity</td>\n",
       "      <td>nii</td>\n",
       "      <td>0</td>\n",
       "    </tr>\n",
       "    <tr>\n",
       "      <th>1762</th>\n",
       "      <td>0</td>\n",
       "      <td>austender</td>\n",
       "      <td>opportunity</td>\n",
       "      <td>0</td>\n",
       "    </tr>\n",
       "  </tbody>\n",
       "</table>\n",
       "<p>1722 rows × 4 columns</p>\n",
       "</div>"
      ],
      "text/plain": [
       "      index       value_x      value_y   value\n",
       "1523      0         perth      project  298737\n",
       "498       0       project        perth  298518\n",
       "222       0     australia         fund  298341\n",
       "509       0          fund    australia  298126\n",
       "711       0            au   guidelines  295542\n",
       "...     ...           ...          ...     ...\n",
       "495       0       project          nii       0\n",
       "1201      0  productivity         raaf       0\n",
       "487       0       project         raaf       0\n",
       "1209      0  productivity          nii       0\n",
       "1762      0     austender  opportunity       0\n",
       "\n",
       "[1722 rows x 4 columns]"
      ]
     },
     "execution_count": 21,
     "metadata": {},
     "output_type": "execute_result"
    }
   ],
   "source": [
    "outer_df.sort_values('value', ascending=False)"
   ]
  },
  {
   "cell_type": "code",
   "execution_count": null,
   "id": "693a7bac",
   "metadata": {},
   "outputs": [],
   "source": []
  }
 ],
 "metadata": {
  "kernelspec": {
   "display_name": "Python 3 (ipykernel)",
   "language": "python",
   "name": "python3"
  },
  "language_info": {
   "codemirror_mode": {
    "name": "ipython",
    "version": 3
   },
   "file_extension": ".py",
   "mimetype": "text/x-python",
   "name": "python",
   "nbconvert_exporter": "python",
   "pygments_lexer": "ipython3",
   "version": "3.9.0"
  }
 },
 "nbformat": 4,
 "nbformat_minor": 5
}
