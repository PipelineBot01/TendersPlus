{
 "cells": [
  {
   "cell_type": "code",
   "execution_count": 1,
   "id": "10d3e1a0",
   "metadata": {},
   "outputs": [],
   "source": [
    "import pandas as pd\n",
    "import re\n",
    "import matplotlib.pyplot as plt\n",
    "import numpy as np\n",
    "import seaborn as sns\n",
    "from matplotlib import cm"
   ]
  },
  {
   "cell_type": "code",
   "execution_count": 2,
   "id": "7ac8cefd",
   "metadata": {},
   "outputs": [],
   "source": [
    "input_data = pd.read_csv('result.csv')"
   ]
  },
  {
   "cell_type": "code",
   "execution_count": 3,
   "id": "e759bb80",
   "metadata": {},
   "outputs": [
    {
     "data": {
      "text/html": [
       "<div>\n",
       "<style scoped>\n",
       "    .dataframe tbody tr th:only-of-type {\n",
       "        vertical-align: middle;\n",
       "    }\n",
       "\n",
       "    .dataframe tbody tr th {\n",
       "        vertical-align: top;\n",
       "    }\n",
       "\n",
       "    .dataframe thead th {\n",
       "        text-align: right;\n",
       "    }\n",
       "</style>\n",
       "<table border=\"1\" class=\"dataframe\">\n",
       "  <thead>\n",
       "    <tr style=\"text-align: right;\">\n",
       "      <th></th>\n",
       "      <th>stage</th>\n",
       "      <th>data</th>\n",
       "      <th>profile</th>\n",
       "      <th>ref</th>\n",
       "      <th>reco</th>\n",
       "      <th>top3</th>\n",
       "      <th>top5</th>\n",
       "      <th>top10</th>\n",
       "      <th>top15</th>\n",
       "      <th>top20</th>\n",
       "    </tr>\n",
       "  </thead>\n",
       "  <tbody>\n",
       "    <tr>\n",
       "      <th>0</th>\n",
       "      <td>0</td>\n",
       "      <td>2022.5.8</td>\n",
       "      <td>{id:\"jennytestone@test.com\",divisions:[\"Commer...</td>\n",
       "      <td>NaN</td>\n",
       "      <td>[\"GO1043\":2,\"GO1755\":0,\"GO1841\":1,\"GO5459\":3,\"...</td>\n",
       "      <td>66.67%</td>\n",
       "      <td>60.00%</td>\n",
       "      <td>60.00%</td>\n",
       "      <td>60.00%</td>\n",
       "      <td>60.00%</td>\n",
       "    </tr>\n",
       "    <tr>\n",
       "      <th>1</th>\n",
       "      <td>1</td>\n",
       "      <td>2022.5.8</td>\n",
       "      <td>{id:\"jennytestone@test.com\",divisions:[\"Commer...</td>\n",
       "      <td>[\"jennytesttwo@test.com\",\"jennytestthree@test....</td>\n",
       "      <td>[\"GO3141\":1,\"GO1972\":1,\"GO1043\":2,\"GO4007\":0,\"...</td>\n",
       "      <td>100.00%</td>\n",
       "      <td>80.00%</td>\n",
       "      <td>70.00%</td>\n",
       "      <td>73.33%</td>\n",
       "      <td>70.00%</td>\n",
       "    </tr>\n",
       "    <tr>\n",
       "      <th>2</th>\n",
       "      <td>0</td>\n",
       "      <td>2022.5.8</td>\n",
       "      <td>{\"id\":StageZero@anu.edu.au, \"divisions\": [\"MED...</td>\n",
       "      <td>NaN</td>\n",
       "      <td>[\"GO1001\": 3, \"GO4515\":1, \"GO4503\":3,\"GO4496\":...</td>\n",
       "      <td>100.00%</td>\n",
       "      <td>80.00%</td>\n",
       "      <td>90%</td>\n",
       "      <td>80.00%</td>\n",
       "      <td>85%</td>\n",
       "    </tr>\n",
       "    <tr>\n",
       "      <th>3</th>\n",
       "      <td>1</td>\n",
       "      <td>2022.5.8</td>\n",
       "      <td>{\"id\":StageZero@anu.edu.au, \"divisions\": [\"MED...</td>\n",
       "      <td>[\"StageOneHighA@anu.edu.au\", \"StageOneMidA@anu...</td>\n",
       "      <td>[\"GO2863\": 2, \"GO5455\":2, \"GO1240\":0,\"GO4481\":...</td>\n",
       "      <td>66.70%</td>\n",
       "      <td>80.00%</td>\n",
       "      <td>70.00%</td>\n",
       "      <td>73.33%</td>\n",
       "      <td>80.00%</td>\n",
       "    </tr>\n",
       "    <tr>\n",
       "      <th>4</th>\n",
       "      <td>0</td>\n",
       "      <td>2022.5.8</td>\n",
       "      <td>\"ID\": (Robert.B@anu.com ), \"divisions\": [ \"stu...</td>\n",
       "      <td>NaN</td>\n",
       "      <td>[\"go546\": 0, \"go4834\": 0, \"go1676\": 4, \"go4865...</td>\n",
       "      <td>33%</td>\n",
       "      <td>60%</td>\n",
       "      <td>50%</td>\n",
       "      <td>53%</td>\n",
       "      <td>87%</td>\n",
       "    </tr>\n",
       "    <tr>\n",
       "      <th>5</th>\n",
       "      <td>1</td>\n",
       "      <td>2022.5.8</td>\n",
       "      <td>\"ID\": (Robert.B@anu.com ), \"divisions\": [ \"stu...</td>\n",
       "      <td>[\"Robert.A@anu.com\", \"Robert.C@anu.com\", \"Robe...</td>\n",
       "      <td>[\"go4865\": 3, \"go4834\": 3, \"go3720\": 3, \"go173...</td>\n",
       "      <td>100%</td>\n",
       "      <td>100%</td>\n",
       "      <td>80%</td>\n",
       "      <td>73.33%</td>\n",
       "      <td>60%</td>\n",
       "    </tr>\n",
       "  </tbody>\n",
       "</table>\n",
       "</div>"
      ],
      "text/plain": [
       "   stage      data                                            profile  \\\n",
       "0      0  2022.5.8  {id:\"jennytestone@test.com\",divisions:[\"Commer...   \n",
       "1      1  2022.5.8  {id:\"jennytestone@test.com\",divisions:[\"Commer...   \n",
       "2      0  2022.5.8  {\"id\":StageZero@anu.edu.au, \"divisions\": [\"MED...   \n",
       "3      1  2022.5.8  {\"id\":StageZero@anu.edu.au, \"divisions\": [\"MED...   \n",
       "4      0  2022.5.8  \"ID\": (Robert.B@anu.com ), \"divisions\": [ \"stu...   \n",
       "5      1  2022.5.8  \"ID\": (Robert.B@anu.com ), \"divisions\": [ \"stu...   \n",
       "\n",
       "                                                 ref  \\\n",
       "0                                                NaN   \n",
       "1  [\"jennytesttwo@test.com\",\"jennytestthree@test....   \n",
       "2                                                NaN   \n",
       "3  [\"StageOneHighA@anu.edu.au\", \"StageOneMidA@anu...   \n",
       "4                                                NaN   \n",
       "5  [\"Robert.A@anu.com\", \"Robert.C@anu.com\", \"Robe...   \n",
       "\n",
       "                                                reco     top3    top5   top10  \\\n",
       "0  [\"GO1043\":2,\"GO1755\":0,\"GO1841\":1,\"GO5459\":3,\"...   66.67%  60.00%  60.00%   \n",
       "1  [\"GO3141\":1,\"GO1972\":1,\"GO1043\":2,\"GO4007\":0,\"...  100.00%  80.00%  70.00%   \n",
       "2  [\"GO1001\": 3, \"GO4515\":1, \"GO4503\":3,\"GO4496\":...  100.00%  80.00%     90%   \n",
       "3  [\"GO2863\": 2, \"GO5455\":2, \"GO1240\":0,\"GO4481\":...   66.70%  80.00%  70.00%   \n",
       "4  [\"go546\": 0, \"go4834\": 0, \"go1676\": 4, \"go4865...      33%     60%     50%   \n",
       "5  [\"go4865\": 3, \"go4834\": 3, \"go3720\": 3, \"go173...     100%    100%     80%   \n",
       "\n",
       "    top15   top20  \n",
       "0  60.00%  60.00%  \n",
       "1  73.33%  70.00%  \n",
       "2  80.00%     85%  \n",
       "3  73.33%  80.00%  \n",
       "4     53%     87%  \n",
       "5  73.33%     60%  "
      ]
     },
     "execution_count": 3,
     "metadata": {},
     "output_type": "execute_result"
    }
   ],
   "source": [
    "input_data"
   ]
  },
  {
   "cell_type": "code",
   "execution_count": 4,
   "id": "e36caf29",
   "metadata": {},
   "outputs": [
    {
     "name": "stderr",
     "output_type": "stream",
     "text": [
      "C:\\Users\\24966\\AppData\\Local\\Temp/ipykernel_7864/2982703673.py:3: FutureWarning: The default value of regex will change from True to False in a future version. In addition, single character regular expressions will *not* be treated as literal strings when regex=True.\n",
      "  input_data['profile'] = input_data['profile'].str.replace('(', '').copy()\n",
      "C:\\Users\\24966\\AppData\\Local\\Temp/ipykernel_7864/2982703673.py:4: FutureWarning: The default value of regex will change from True to False in a future version. In addition, single character regular expressions will *not* be treated as literal strings when regex=True.\n",
      "  input_data['profile'] = input_data['profile'].str.replace(')', '').copy()\n"
     ]
    }
   ],
   "source": [
    "input_data['profile'] = input_data['profile'].str.lower().copy()\n",
    "input_data['profile'] = input_data['profile'].str.replace('\"', '').copy()\n",
    "input_data['profile'] = input_data['profile'].str.replace('(', '').copy()\n",
    "input_data['profile'] = input_data['profile'].str.replace(')', '').copy()\n",
    "input_data['user'] = input_data['profile'].map(lambda x: re.findall('id:(.*?)@', x)[0])"
   ]
  },
  {
   "cell_type": "code",
   "execution_count": 5,
   "id": "43280146",
   "metadata": {},
   "outputs": [],
   "source": [
    "def get_list(row):\n",
    "    return row.split(',')"
   ]
  },
  {
   "cell_type": "code",
   "execution_count": 6,
   "id": "c6082ff2",
   "metadata": {},
   "outputs": [],
   "source": [
    "input_data['tmp'] = input_data['reco'].map(get_list)"
   ]
  },
  {
   "cell_type": "code",
   "execution_count": 7,
   "id": "946b17a6",
   "metadata": {},
   "outputs": [],
   "source": [
    "new_df = input_data.explode('tmp')"
   ]
  },
  {
   "cell_type": "code",
   "execution_count": 8,
   "id": "28d8a70b",
   "metadata": {},
   "outputs": [],
   "source": [
    "def get_list(row):\n",
    "    value  =row.lower().split(':')\n",
    "    return [re.findall('go(\\d+)' ,value[0])[0], re.findall('(\\d+)' ,value[1])[0]]"
   ]
  },
  {
   "cell_type": "code",
   "execution_count": 9,
   "id": "e0bc52a3",
   "metadata": {},
   "outputs": [],
   "source": [
    "new_df['value'] = new_df['tmp'].map(get_list)"
   ]
  },
  {
   "cell_type": "code",
   "execution_count": 10,
   "id": "335fe6c9",
   "metadata": {},
   "outputs": [],
   "source": [
    "new_df['goid'] = new_df['value'].map(lambda x:x[0])\n",
    "new_df['rate'] = new_df['value'].map(lambda x:x[1])"
   ]
  },
  {
   "cell_type": "code",
   "execution_count": 11,
   "id": "9e0607f5",
   "metadata": {},
   "outputs": [],
   "source": [
    "draw_df = new_df[['stage', 'user', 'goid', 'rate']]"
   ]
  },
  {
   "cell_type": "code",
   "execution_count": 12,
   "id": "f326ac9f",
   "metadata": {},
   "outputs": [
    {
     "name": "stderr",
     "output_type": "stream",
     "text": [
      "C:\\Users\\24966\\AppData\\Local\\Temp/ipykernel_7864/2057617114.py:2: SettingWithCopyWarning: \n",
      "A value is trying to be set on a copy of a slice from a DataFrame.\n",
      "Try using .loc[row_indexer,col_indexer] = value instead\n",
      "\n",
      "See the caveats in the documentation: https://pandas.pydata.org/pandas-docs/stable/user_guide/indexing.html#returning-a-view-versus-a-copy\n",
      "  div_df['divisions'] = div_df['profile'].map(lambda x: re.findall('divisions:\\s*\\[(.*?)\\]', x))\n"
     ]
    }
   ],
   "source": [
    "div_df = new_df[['user', 'profile']]\n",
    "div_df['divisions'] = div_df['profile'].map(lambda x: re.findall('divisions:\\s*\\[(.*?)\\]', x))"
   ]
  },
  {
   "cell_type": "code",
   "execution_count": 13,
   "id": "3ed582a2",
   "metadata": {},
   "outputs": [
    {
     "data": {
      "text/plain": [
       "array([\"['commerce, management, tourism and services,economics']\",\n",
       "       \"['medical and health sciences,psychology and cognitive sciences,biological sciences']\",\n",
       "       \"[' studies in human society, language, communication and culture, studies in creative arts and writing']\"],\n",
       "      dtype=object)"
      ]
     },
     "execution_count": 13,
     "metadata": {},
     "output_type": "execute_result"
    }
   ],
   "source": [
    "div_df = div_df[['user', 'divisions']]\n",
    "div_df['divisions'] = div_df['divisions'].astype(str)\n",
    "div_df['divisions'].unique()"
   ]
  },
  {
   "cell_type": "code",
   "execution_count": 14,
   "id": "847e4297",
   "metadata": {},
   "outputs": [
    {
     "data": {
      "text/html": [
       "<div>\n",
       "<style scoped>\n",
       "    .dataframe tbody tr th:only-of-type {\n",
       "        vertical-align: middle;\n",
       "    }\n",
       "\n",
       "    .dataframe tbody tr th {\n",
       "        vertical-align: top;\n",
       "    }\n",
       "\n",
       "    .dataframe thead th {\n",
       "        text-align: right;\n",
       "    }\n",
       "</style>\n",
       "<table border=\"1\" class=\"dataframe\">\n",
       "  <thead>\n",
       "    <tr style=\"text-align: right;\">\n",
       "      <th></th>\n",
       "      <th>user</th>\n",
       "      <th>divisions</th>\n",
       "    </tr>\n",
       "  </thead>\n",
       "  <tbody>\n",
       "    <tr>\n",
       "      <th>0</th>\n",
       "      <td>jennytestone</td>\n",
       "      <td>['commerce, management, tourism and services,e...</td>\n",
       "    </tr>\n",
       "    <tr>\n",
       "      <th>0</th>\n",
       "      <td>jennytestone</td>\n",
       "      <td>['commerce, management, tourism and services,e...</td>\n",
       "    </tr>\n",
       "    <tr>\n",
       "      <th>0</th>\n",
       "      <td>jennytestone</td>\n",
       "      <td>['commerce, management, tourism and services,e...</td>\n",
       "    </tr>\n",
       "    <tr>\n",
       "      <th>0</th>\n",
       "      <td>jennytestone</td>\n",
       "      <td>['commerce, management, tourism and services,e...</td>\n",
       "    </tr>\n",
       "    <tr>\n",
       "      <th>0</th>\n",
       "      <td>jennytestone</td>\n",
       "      <td>['commerce, management, tourism and services,e...</td>\n",
       "    </tr>\n",
       "    <tr>\n",
       "      <th>...</th>\n",
       "      <td>...</td>\n",
       "      <td>...</td>\n",
       "    </tr>\n",
       "    <tr>\n",
       "      <th>5</th>\n",
       "      <td>robert.b</td>\n",
       "      <td>[' studies in human society, language, communi...</td>\n",
       "    </tr>\n",
       "    <tr>\n",
       "      <th>5</th>\n",
       "      <td>robert.b</td>\n",
       "      <td>[' studies in human society, language, communi...</td>\n",
       "    </tr>\n",
       "    <tr>\n",
       "      <th>5</th>\n",
       "      <td>robert.b</td>\n",
       "      <td>[' studies in human society, language, communi...</td>\n",
       "    </tr>\n",
       "    <tr>\n",
       "      <th>5</th>\n",
       "      <td>robert.b</td>\n",
       "      <td>[' studies in human society, language, communi...</td>\n",
       "    </tr>\n",
       "    <tr>\n",
       "      <th>5</th>\n",
       "      <td>robert.b</td>\n",
       "      <td>[' studies in human society, language, communi...</td>\n",
       "    </tr>\n",
       "  </tbody>\n",
       "</table>\n",
       "<p>120 rows × 2 columns</p>\n",
       "</div>"
      ],
      "text/plain": [
       "            user                                          divisions\n",
       "0   jennytestone  ['commerce, management, tourism and services,e...\n",
       "0   jennytestone  ['commerce, management, tourism and services,e...\n",
       "0   jennytestone  ['commerce, management, tourism and services,e...\n",
       "0   jennytestone  ['commerce, management, tourism and services,e...\n",
       "0   jennytestone  ['commerce, management, tourism and services,e...\n",
       "..           ...                                                ...\n",
       "5       robert.b  [' studies in human society, language, communi...\n",
       "5       robert.b  [' studies in human society, language, communi...\n",
       "5       robert.b  [' studies in human society, language, communi...\n",
       "5       robert.b  [' studies in human society, language, communi...\n",
       "5       robert.b  [' studies in human society, language, communi...\n",
       "\n",
       "[120 rows x 2 columns]"
      ]
     },
     "execution_count": 14,
     "metadata": {},
     "output_type": "execute_result"
    }
   ],
   "source": [
    "div_df"
   ]
  },
  {
   "cell_type": "code",
   "execution_count": 16,
   "id": "02d13a9a",
   "metadata": {},
   "outputs": [],
   "source": [
    "div_list = ['Business & Commerce','Health & Medical Studies','Arts, Society & Culture']"
   ]
  },
  {
   "cell_type": "code",
   "execution_count": 18,
   "id": "4bbef1a8",
   "metadata": {},
   "outputs": [
    {
     "data": {
      "image/png": "[encoded data removed]",
      "text/plain": [
       "<Figure size 864x720 with 1 Axes>"
      ]
     },
     "metadata": {
      "needs_background": "light"
     },
     "output_type": "display_data"
    }
   ],
   "source": [
    "fig = plt.figure(figsize=(12, 10))\n",
    "ax = fig.add_subplot(111)\n",
    "cols = draw_df['user'].unique().tolist()\n",
    "colors = ['#C0C0C0', '#DDA0DD', '#DA70D6', '#A066D3', '#7b45ab', '#3d1163']\n",
    "width = 0.5\n",
    "\n",
    "for i, ven_name in enumerate(cols):\n",
    "    tmp_df = draw_df[draw_df['user'] == ven_name]\n",
    "    for j in [0, 1]:\n",
    "        stage_df = tmp_df[tmp_df['stage'] == j]\n",
    "        old_height = 0\n",
    "        for rating in range(6):\n",
    "            height = len(stage_df[stage_df['rate'] == str(rating)])\n",
    "            plt.bar(i + i*0.6+j*0.55, height,width, bottom=old_height, color=colors[:][rating],\n",
    "                    label=rating if i == 0 and j==0 else None)\n",
    "            old_height = old_height + height\n",
    "\n",
    "plt.xticks([i*1.6+0.27 for i in range(len(cols))], div_list)\n",
    "plt.xlim((-0.5, 4.5))\n",
    "plt.ylim((0, 21))\n",
    "ax.set_xlabel('division')\n",
    "ax.set_ylabel('count')\n",
    "plt.legend()\n",
    "plt.show()\n"
   ]
  },
  {
   "cell_type": "code",
   "execution_count": 22,
   "id": "d0741821",
   "metadata": {},
   "outputs": [],
   "source": [
    "acc_df = new_df.drop_duplicates(['user', 'stage'])[['user', 'stage', 'top3', 'top5', 'top10', 'top15', 'top20']]"
   ]
  },
  {
   "cell_type": "code",
   "execution_count": 24,
   "id": "0982e153",
   "metadata": {},
   "outputs": [
    {
     "data": {
      "text/html": [
       "<div>\n",
       "<style scoped>\n",
       "    .dataframe tbody tr th:only-of-type {\n",
       "        vertical-align: middle;\n",
       "    }\n",
       "\n",
       "    .dataframe tbody tr th {\n",
       "        vertical-align: top;\n",
       "    }\n",
       "\n",
       "    .dataframe thead th {\n",
       "        text-align: right;\n",
       "    }\n",
       "</style>\n",
       "<table border=\"1\" class=\"dataframe\">\n",
       "  <thead>\n",
       "    <tr style=\"text-align: right;\">\n",
       "      <th></th>\n",
       "      <th>user</th>\n",
       "      <th>stage</th>\n",
       "      <th>top3</th>\n",
       "      <th>top5</th>\n",
       "      <th>top10</th>\n",
       "      <th>top15</th>\n",
       "      <th>top20</th>\n",
       "    </tr>\n",
       "  </thead>\n",
       "  <tbody>\n",
       "    <tr>\n",
       "      <th>0</th>\n",
       "      <td>jennytestone</td>\n",
       "      <td>0</td>\n",
       "      <td>66.67%</td>\n",
       "      <td>60.00%</td>\n",
       "      <td>60.00%</td>\n",
       "      <td>60.00%</td>\n",
       "      <td>60.00%</td>\n",
       "    </tr>\n",
       "    <tr>\n",
       "      <th>1</th>\n",
       "      <td>jennytestone</td>\n",
       "      <td>1</td>\n",
       "      <td>100.00%</td>\n",
       "      <td>80.00%</td>\n",
       "      <td>70.00%</td>\n",
       "      <td>73.33%</td>\n",
       "      <td>70.00%</td>\n",
       "    </tr>\n",
       "    <tr>\n",
       "      <th>2</th>\n",
       "      <td>stagezero</td>\n",
       "      <td>0</td>\n",
       "      <td>100.00%</td>\n",
       "      <td>80.00%</td>\n",
       "      <td>90%</td>\n",
       "      <td>80.00%</td>\n",
       "      <td>85%</td>\n",
       "    </tr>\n",
       "    <tr>\n",
       "      <th>3</th>\n",
       "      <td>stagezero</td>\n",
       "      <td>1</td>\n",
       "      <td>66.70%</td>\n",
       "      <td>80.00%</td>\n",
       "      <td>70.00%</td>\n",
       "      <td>73.33%</td>\n",
       "      <td>80.00%</td>\n",
       "    </tr>\n",
       "    <tr>\n",
       "      <th>4</th>\n",
       "      <td>robert.b</td>\n",
       "      <td>0</td>\n",
       "      <td>33%</td>\n",
       "      <td>60%</td>\n",
       "      <td>50%</td>\n",
       "      <td>53%</td>\n",
       "      <td>87%</td>\n",
       "    </tr>\n",
       "    <tr>\n",
       "      <th>5</th>\n",
       "      <td>robert.b</td>\n",
       "      <td>1</td>\n",
       "      <td>100%</td>\n",
       "      <td>100%</td>\n",
       "      <td>80%</td>\n",
       "      <td>73.33%</td>\n",
       "      <td>60%</td>\n",
       "    </tr>\n",
       "  </tbody>\n",
       "</table>\n",
       "</div>"
      ],
      "text/plain": [
       "           user  stage     top3    top5   top10   top15   top20\n",
       "0  jennytestone      0   66.67%  60.00%  60.00%  60.00%  60.00%\n",
       "1  jennytestone      1  100.00%  80.00%  70.00%  73.33%  70.00%\n",
       "2     stagezero      0  100.00%  80.00%     90%  80.00%     85%\n",
       "3     stagezero      1   66.70%  80.00%  70.00%  73.33%  80.00%\n",
       "4      robert.b      0      33%     60%     50%     53%     87%\n",
       "5      robert.b      1     100%    100%     80%  73.33%     60%"
      ]
     },
     "execution_count": 24,
     "metadata": {},
     "output_type": "execute_result"
    }
   ],
   "source": [
    "acc_df"
   ]
  },
  {
   "cell_type": "code",
   "execution_count": 39,
   "id": "630c108e",
   "metadata": {},
   "outputs": [
    {
     "data": {
      "image/png": "[encoded data removed]",
      "text/plain": [
       "<Figure size 1008x576 with 1 Axes>"
      ]
     },
     "metadata": {
      "needs_background": "light"
     },
     "output_type": "display_data"
    }
   ],
   "source": [
    "plt.figure(figsize=(14, 8))\n",
    "colors = ['r', 'g', 'b']\n",
    "cnt = 0\n",
    "for i in draw_df['user'].unique():\n",
    "    tmp_df = acc_df[acc_df['user'] == i]\n",
    "    for stage in sorted(tmp_df['stage'].unique()):\n",
    "        value_df = tmp_df[tmp_df['stage'] == stage]\n",
    "        x = [3+cnt*20, 5+cnt*20 ,10+cnt*20,15+cnt*20,20+cnt*20]\n",
    "        y = []\n",
    "        for i in ['top3', 'top5', 'top10', 'top15', 'top20']:\n",
    "            y.append(float(value_df[i].values[0].replace('%', ''))/100)\n",
    "        plt.plot(x, y, color = colors[cnt], linewidth=3.0,linestyle='--' if stage==0 else None, label=div_list[cnt] if stage==0 else None)\n",
    "        plt.scatter(x, y, color = colors[cnt],s=55)\n",
    "        for i in range(5):\n",
    "            plt.text(x[i],y[i]+0.02, ['top3', 'top5', 'top10', 'top15', 'top20'][i], ha='center', va='bottom', fontsize=10)\n",
    "    cnt+=1\n",
    "    \n",
    "\n",
    "plt.xticks([])\n",
    "plt.xlim((1, 61))\n",
    "plt.ylim((0, 1.2))\n",
    "plt.ylabel('acceptance rate')\n",
    "plt.legend()\n",
    "plt.show()"
   ]
  },
  {
   "cell_type": "code",
   "execution_count": null,
   "id": "a8abfca8",
   "metadata": {},
   "outputs": [],
   "source": []
  },
  {
   "cell_type": "code",
   "execution_count": null,
   "id": "cb1246fc",
   "metadata": {},
   "outputs": [],
   "source": []
  }
 ],
 "metadata": {
  "kernelspec": {
   "display_name": "Python 3 (ipykernel)",
   "language": "python",
   "name": "python3"
  },
  "language_info": {
   "codemirror_mode": {
    "name": "ipython",
    "version": 3
   },
   "file_extension": ".py",
   "mimetype": "text/x-python",
   "name": "python",
   "nbconvert_exporter": "python",
   "pygments_lexer": "ipython3",
   "version": "3.9.0"
  }
 },
 "nbformat": 4,
 "nbformat_minor": 5
}
