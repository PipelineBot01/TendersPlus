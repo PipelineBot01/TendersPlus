{
 "cells": [
  {
   "cell_type": "code",
   "execution_count": 1,
   "id": "8d45cc66",
   "metadata": {},
   "outputs": [],
   "source": [
    "import sys\n",
    "sys.path.append('../')"
   ]
  },
  {
   "cell_type": "code",
   "execution_count": 2,
   "id": "e2641798",
   "metadata": {},
   "outputs": [],
   "source": [
    "import pandas as pd\n",
    "import numpy as np"
   ]
  },
  {
   "cell_type": "code",
   "execution_count": 3,
   "id": "d25ebb66",
   "metadata": {},
   "outputs": [],
   "source": [
    "from db.mongodb import MongoConx"
   ]
  },
  {
   "cell_type": "code",
   "execution_count": 4,
   "id": "11109b75",
   "metadata": {},
   "outputs": [],
   "source": [
    "mc = MongoConx('tenders')"
   ]
  },
  {
   "cell_type": "code",
   "execution_count": 5,
   "id": "bb04fe0d",
   "metadata": {
    "scrolled": true
   },
   "outputs": [
    {
     "data": {
      "text/plain": [
       "1741"
      ]
     },
     "execution_count": 5,
     "metadata": {},
     "output_type": "execute_result"
    }
   ],
   "source": [
    "mc.database['raw_grants_all'].count_documents({})"
   ]
  },
  {
   "cell_type": "code",
   "execution_count": 6,
   "id": "ee899b00",
   "metadata": {},
   "outputs": [],
   "source": [
    "remain_cols = ['_id', 'Agency', 'Publish Date', 'Close Date & Time',  'Title',\n",
    "                         'Description',\n",
    "                         'Eligibility',\n",
    "                         'Primary Category',\n",
    "                         'Secondary Category',\n",
    "                         'Total Amount Available (AUD)',\n",
    "                         'Location', 'Selection Process', 'GO ID'\n",
    "                         ]"
   ]
  },
  {
   "cell_type": "code",
   "execution_count": 7,
   "id": "8ff20010",
   "metadata": {},
   "outputs": [],
   "source": [
    "save_dict = dict(zip(remain_cols, [[] for i in range(len(remain_cols))]))"
   ]
  },
  {
   "cell_type": "code",
   "execution_count": 8,
   "id": "6e28d01c",
   "metadata": {},
   "outputs": [],
   "source": [
    "raw_dict = mc.database['raw_grants_all'].find({})\n",
    "for i in raw_dict:\n",
    "    for col in remain_cols:\n",
    "        if col in i.keys():\n",
    "            save_dict[col].append(i[col])\n",
    "        else:\n",
    "            save_dict[col].append(None)"
   ]
  },
  {
   "cell_type": "code",
   "execution_count": 9,
   "id": "46fbbb37",
   "metadata": {},
   "outputs": [
    {
     "name": "stdout",
     "output_type": "stream",
     "text": [
      "1741\n",
      "1741\n",
      "1741\n",
      "1741\n",
      "1741\n",
      "1741\n",
      "1741\n",
      "1741\n",
      "1741\n",
      "1741\n",
      "1741\n",
      "1741\n",
      "1741\n"
     ]
    }
   ],
   "source": [
    "for i in save_dict.keys():\n",
    "    print(len(save_dict[i]))"
   ]
  },
  {
   "cell_type": "code",
   "execution_count": 10,
   "id": "fee1dabc",
   "metadata": {},
   "outputs": [],
   "source": [
    "re = pd.DataFrame(save_dict)"
   ]
  },
  {
   "cell_type": "code",
   "execution_count": 21,
   "id": "e79cacdb",
   "metadata": {},
   "outputs": [],
   "source": [
    "re.to_csv('abc.csv', index=False)"
   ]
  },
  {
   "cell_type": "code",
   "execution_count": 26,
   "id": "8007b89b",
   "metadata": {},
   "outputs": [],
   "source": [
    "for col in re.select_dtypes(object).columns:\n",
    "    re[col]=re[col].str.replace('’', '')\n",
    "    re[col]=re[col].str.replace('‘', '')"
   ]
  },
  {
   "cell_type": "code",
   "execution_count": 18,
   "id": "9c6be201",
   "metadata": {},
   "outputs": [],
   "source": []
  },
  {
   "cell_type": "code",
   "execution_count": 20,
   "id": "49496604",
   "metadata": {},
   "outputs": [
    {
     "data": {
      "text/plain": [
       "array(['To be eligible to for a grant you must: • have an Australian Business Number (ABN) • be registered for the purposes of GST (unless exempt) • be a permanent resident of Australia • have an account with an Australian Financial Institution • be located in Australia • You must be • a company incorporated in Australia • a company incorporated by a guarantee • an incorporated trustee on behalf of a trust • an incorporated association • a partnership • a joint (consortia) application with a lead organisation • a registered charity or not-for-profit organisation • a publicly funded research organisation • an Australian local government body • an Australian state or territory government body • an Aboriginal and/or Torres Strait Islander Corporation registered under the Corporations (Aboriginal and /or Torres Strait Islander) Act 2006 You are not eligible for a grant if you are: • an individual; • unincorporated association; • overseas resident/organisation; • an organisation not included in the section above. The Australian Government recognises that some organisations may seek to form consortia in order to apply for a grant under the Program. Consortia are eligible to apply and the relevant conditions applicable to consortia are at 7.2\\xa0 Joint Applications'],\n",
       "      dtype=object)"
      ]
     },
     "execution_count": 20,
     "metadata": {},
     "output_type": "execute_result"
    }
   ],
   "source": [
    "re[re['_id'] == '623b03bfb34a6bd48ae4c041']['Eligibility'].values"
   ]
  },
  {
   "cell_type": "code",
   "execution_count": null,
   "id": "98eeb356",
   "metadata": {},
   "outputs": [],
   "source": []
  }
 ],
 "metadata": {
  "kernelspec": {
   "display_name": "Python 3 (ipykernel)",
   "language": "python",
   "name": "python3"
  },
  "language_info": {
   "codemirror_mode": {
    "name": "ipython",
    "version": 3
   },
   "file_extension": ".py",
   "mimetype": "text/x-python",
   "name": "python",
   "nbconvert_exporter": "python",
   "pygments_lexer": "ipython3",
   "version": "3.9.0"
  }
 },
 "nbformat": 4,
 "nbformat_minor": 5
}
