{
 "cells": [
  {
   "cell_type": "code",
   "execution_count": 1,
   "id": "d99b7fa2",
   "metadata": {},
   "outputs": [],
   "source": [
    "import sys\n",
    "sys.path.append('../..')"
   ]
  },
  {
   "cell_type": "code",
   "execution_count": 8,
   "id": "b9b110be",
   "metadata": {},
   "outputs": [],
   "source": [
    "import pandas as pd\n",
    "import re"
   ]
  },
  {
   "cell_type": "code",
   "execution_count": 5,
   "id": "5217f1f9",
   "metadata": {},
   "outputs": [],
   "source": [
    "input_df = pd.read_csv('../assets/researcher_action.csv')"
   ]
  },
  {
   "cell_type": "code",
   "execution_count": 16,
   "id": "6f55d73b",
   "metadata": {},
   "outputs": [],
   "source": [
    "def extract_goid(row):\n",
    "    rule = r'(GO[0-9]{4})'\n",
    "    result = re.findall(rule, row)\n",
    "    return result"
   ]
  },
  {
   "cell_type": "code",
   "execution_count": 17,
   "id": "41433801",
   "metadata": {},
   "outputs": [],
   "source": [
    "input_df['go_id'] = input_df['payload'].map(extract_goid)"
   ]
  },
  {
   "cell_type": "code",
   "execution_count": 20,
   "id": "46ddb508",
   "metadata": {},
   "outputs": [],
   "source": [
    "input_df['action_date'] = pd.to_datetime(input_df['action_date'])"
   ]
  },
  {
   "cell_type": "code",
   "execution_count": 21,
   "id": "cb9dab00",
   "metadata": {},
   "outputs": [
    {
     "data": {
      "text/html": [
       "<div>\n",
       "<style scoped>\n",
       "    .dataframe tbody tr th:only-of-type {\n",
       "        vertical-align: middle;\n",
       "    }\n",
       "\n",
       "    .dataframe tbody tr th {\n",
       "        vertical-align: top;\n",
       "    }\n",
       "\n",
       "    .dataframe thead th {\n",
       "        text-align: right;\n",
       "    }\n",
       "</style>\n",
       "<table border=\"1\" class=\"dataframe\">\n",
       "  <thead>\n",
       "    <tr style=\"text-align: right;\">\n",
       "      <th></th>\n",
       "      <th>id</th>\n",
       "      <th>type</th>\n",
       "      <th>action_date</th>\n",
       "      <th>go_id</th>\n",
       "    </tr>\n",
       "  </thead>\n",
       "  <tbody>\n",
       "    <tr>\n",
       "      <th>0</th>\n",
       "      <td>Reg_a@a.com</td>\n",
       "      <td>0</td>\n",
       "      <td>2022-04-19 16:26:41</td>\n",
       "      <td>GO5484</td>\n",
       "    </tr>\n",
       "    <tr>\n",
       "      <th>0</th>\n",
       "      <td>Reg_a@a.com</td>\n",
       "      <td>0</td>\n",
       "      <td>2022-04-19 16:26:41</td>\n",
       "      <td>GO5359</td>\n",
       "    </tr>\n",
       "    <tr>\n",
       "      <th>0</th>\n",
       "      <td>Reg_a@a.com</td>\n",
       "      <td>0</td>\n",
       "      <td>2022-04-19 16:26:41</td>\n",
       "      <td>GO4733</td>\n",
       "    </tr>\n",
       "    <tr>\n",
       "      <th>0</th>\n",
       "      <td>Reg_a@a.com</td>\n",
       "      <td>0</td>\n",
       "      <td>2022-04-19 16:26:41</td>\n",
       "      <td>GO4778</td>\n",
       "    </tr>\n",
       "    <tr>\n",
       "      <th>0</th>\n",
       "      <td>Reg_a@a.com</td>\n",
       "      <td>0</td>\n",
       "      <td>2022-04-19 16:26:41</td>\n",
       "      <td>GO5448</td>\n",
       "    </tr>\n",
       "    <tr>\n",
       "      <th>...</th>\n",
       "      <td>...</td>\n",
       "      <td>...</td>\n",
       "      <td>...</td>\n",
       "      <td>...</td>\n",
       "    </tr>\n",
       "    <tr>\n",
       "      <th>12</th>\n",
       "      <td>Reg_Ryanyang@anu.com</td>\n",
       "      <td>0</td>\n",
       "      <td>2022-04-19 16:26:03</td>\n",
       "      <td>GO5254</td>\n",
       "    </tr>\n",
       "    <tr>\n",
       "      <th>12</th>\n",
       "      <td>Reg_Ryanyang@anu.com</td>\n",
       "      <td>0</td>\n",
       "      <td>2022-04-19 16:26:03</td>\n",
       "      <td>GO4863</td>\n",
       "    </tr>\n",
       "    <tr>\n",
       "      <th>12</th>\n",
       "      <td>Reg_Ryanyang@anu.com</td>\n",
       "      <td>0</td>\n",
       "      <td>2022-04-19 16:26:03</td>\n",
       "      <td>GO4749</td>\n",
       "    </tr>\n",
       "    <tr>\n",
       "      <th>12</th>\n",
       "      <td>Reg_Ryanyang@anu.com</td>\n",
       "      <td>0</td>\n",
       "      <td>2022-04-19 16:26:03</td>\n",
       "      <td>GO4215</td>\n",
       "    </tr>\n",
       "    <tr>\n",
       "      <th>13</th>\n",
       "      <td>Reg_Ryanyang@anu.com</td>\n",
       "      <td>1</td>\n",
       "      <td>2022-04-19 16:26:35</td>\n",
       "      <td>GO5496</td>\n",
       "    </tr>\n",
       "  </tbody>\n",
       "</table>\n",
       "<p>82 rows × 4 columns</p>\n",
       "</div>"
      ],
      "text/plain": [
       "                      id  type         action_date   go_id\n",
       "0            Reg_a@a.com     0 2022-04-19 16:26:41  GO5484\n",
       "0            Reg_a@a.com     0 2022-04-19 16:26:41  GO5359\n",
       "0            Reg_a@a.com     0 2022-04-19 16:26:41  GO4733\n",
       "0            Reg_a@a.com     0 2022-04-19 16:26:41  GO4778\n",
       "0            Reg_a@a.com     0 2022-04-19 16:26:41  GO5448\n",
       "..                   ...   ...                 ...     ...\n",
       "12  Reg_Ryanyang@anu.com     0 2022-04-19 16:26:03  GO5254\n",
       "12  Reg_Ryanyang@anu.com     0 2022-04-19 16:26:03  GO4863\n",
       "12  Reg_Ryanyang@anu.com     0 2022-04-19 16:26:03  GO4749\n",
       "12  Reg_Ryanyang@anu.com     0 2022-04-19 16:26:03  GO4215\n",
       "13  Reg_Ryanyang@anu.com     1 2022-04-19 16:26:35  GO5496\n",
       "\n",
       "[82 rows x 4 columns]"
      ]
     },
     "execution_count": 21,
     "metadata": {},
     "output_type": "execute_result"
    }
   ],
   "source": [
    "input_df.explode('go_id')[['id', 'type', 'action_date', 'go_id']]"
   ]
  },
  {
   "cell_type": "code",
   "execution_count": null,
   "id": "a8dc5ff5",
   "metadata": {},
   "outputs": [],
   "source": []
  }
 ],
 "metadata": {
  "kernelspec": {
   "display_name": "Python 3 (ipykernel)",
   "language": "python",
   "name": "python3"
  },
  "language_info": {
   "codemirror_mode": {
    "name": "ipython",
    "version": 3
   },
   "file_extension": ".py",
   "mimetype": "text/x-python",
   "name": "python",
   "nbconvert_exporter": "python",
   "pygments_lexer": "ipython3",
   "version": "3.9.0"
  }
 },
 "nbformat": 4,
 "nbformat_minor": 5
}
