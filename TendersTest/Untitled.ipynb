{
 "cells": [
  {
   "cell_type": "code",
   "execution_count": 1,
   "id": "6132db5c",
   "metadata": {},
   "outputs": [],
   "source": [
    "import pandas as pd\n",
    "import numpy as np"
   ]
  },
  {
   "cell_type": "code",
   "execution_count": 2,
   "id": "bd4c0fa5",
   "metadata": {},
   "outputs": [],
   "source": [
    "map_df = pd.read_csv('Data/mapping.csv')\n",
    "task_1 = pd.read_csv('Data/task1.csv')\n",
    "task_2 = pd.read_csv('Data/task2.csv')\n",
    "task_3 = pd.read_csv('Data/task3.csv')"
   ]
  },
  {
   "cell_type": "code",
   "execution_count": 3,
   "id": "3b0d7178",
   "metadata": {},
   "outputs": [],
   "source": [
    "merge2_df = task_2.replace(\n",
    "    'other irrelevant ', '24 OTHERS(IRRELEVANT)').replace(\n",
    "    'other_relevant ', '23 OTHERS(RELEVANT)').replace(\n",
    "    'research related', '23 OTHERS(RELEVANT)').replace(\n",
    "    'other irrelevant', '24 OTHERS(IRRELEVANT)').replace(\n",
    "    'other relevant', '23 OTHERS(RELEVANT)').replace(\n",
    "    'other_relaevant', '23 OTHERS(RELEVANT)')\n",
    "merge2_df = merge2_df.rename(columns={'Unnamed: 1': 'cate_1',\n",
    "                                      'Unnamed: 2': 'cate_2'})"
   ]
  },
  {
   "cell_type": "code",
   "execution_count": 4,
   "id": "ecc8ee45",
   "metadata": {},
   "outputs": [
    {
     "name": "stderr",
     "output_type": "stream",
     "text": [
      "C:\\Users\\24966\\AppData\\Local\\Temp/ipykernel_94748/2031961785.py:6: SettingWithCopyWarning: \n",
      "A value is trying to be set on a copy of a slice from a DataFrame.\n",
      "Try using .loc[row_indexer,col_indexer] = value instead\n",
      "\n",
      "See the caveats in the documentation: https://pandas.pydata.org/pandas-docs/stable/user_guide/indexing.html#returning-a-view-versus-a-copy\n",
      "  target_df['mark'] = target_df['tmp'].str.extract(re_rule)\n"
     ]
    }
   ],
   "source": [
    "map_df = map_df[['Australian standard']]\n",
    "map_df['tmp'] = map_df['Australian standard'].str.split('DIVISION ')\n",
    "map_df = map_df.explode('tmp')\n",
    "re_rule = '(\\d+)'\n",
    "target_df = map_df[map_df['tmp'].notna()]\n",
    "target_df['mark'] = target_df['tmp'].str.extract(re_rule)\n",
    "target_df = target_df[target_df['mark'].notna()][['tmp', 'mark']].drop_duplicates('mark')\n",
    "target_df['mark'] = target_df['mark'].astype(int).astype(str)\n",
    "merge_df = task_3.merge(target_df, left_on='key_1', right_on='mark', how='left').merge(\n",
    "    target_df, left_on='key_2', right_on='mark', how='left').merge(\n",
    "    target_df, left_on='key_3', right_on='mark', how='left')\n",
    "\n",
    "merge_df = merge_df[['Tags', 'key_1', 'key_2', 'key_3', 'tmp_x', 'tmp_y', 'tmp']].rename(columns={'tmp_x': 'cate_1', 'tmp_y': 'cate_2', 'tmp': 'cate_3'})\n",
    "merge_df['cate_1'] = merge_df['cate_1'].fillna(merge_df['key_1'])\n",
    "merge_df['cate_2'] = merge_df['cate_2'].fillna(merge_df['key_2'])\n",
    "merge_df['cate_3'] = merge_df['cate_3'].fillna(merge_df['key_3'])\n",
    "merge_df = merge_df.drop(['key_1','key_2','key_3'], axis=1)\n",
    "merge3_df = merge_df.replace(\n",
    "    'other_irrelevant ', '24 OTHERS(IRRELEVANT)').replace(\n",
    "    'other_relevant ', '23 OTHERS(RELEVANT)').replace(\n",
    "    'other_irrelevant', '24 OTHERS(IRRELEVANT)').replace(\n",
    "    'other_relevant', '23 OTHERS(RELEVANT)').replace(\n",
    "    'other_relaevant', '23 OTHERS(RELEVANT)')"
   ]
  },
  {
   "cell_type": "code",
   "execution_count": 5,
   "id": "2dfd8584",
   "metadata": {},
   "outputs": [],
   "source": [
    "merge1_df = task_1.rename(columns={'word': 'Tags', \n",
    "                                   'cate1': 'cate_1',\n",
    "                                   'cate2': 'cate_2',\n",
    "                                   'cate3': 'cate_3'}).replace(\n",
    "    'other irrelevant ', '24 OTHERS(IRRELEVANT)').replace(\n",
    "    'other_relevant ', '23 OTHERS(RELEVANT)').replace(\n",
    "    'research related', '23 OTHERS(RELEVANT)').replace(\n",
    "    'other irrelevant', '24 OTHERS(IRRELEVANT)').replace(\n",
    "    'other relevant', '23 OTHERS(RELEVANT)').replace(\n",
    "    'other_relaevant', '23 OTHERS(RELEVANT)')"
   ]
  },
  {
   "cell_type": "code",
   "execution_count": 6,
   "id": "8c67ddb7",
   "metadata": {},
   "outputs": [],
   "source": [
    "merge_df = pd.concat([merge1_df, merge2_df, merge3_df])"
   ]
  },
  {
   "cell_type": "code",
   "execution_count": 7,
   "id": "5db65e49",
   "metadata": {},
   "outputs": [],
   "source": [
    "merge_df['Tags'] = merge_df['Tags'].str.lower()"
   ]
  },
  {
   "cell_type": "code",
   "execution_count": 17,
   "id": "531d22ed",
   "metadata": {
    "scrolled": false
   },
   "outputs": [],
   "source": [
    "dup_df = merge_df[merge_df.duplicated('Tags',)]\n",
    "same_list = []\n",
    "for t in dup_df['Tags'].unique():\n",
    "    same_list.append(merge_df[merge_df['Tags'] == t])"
   ]
  },
  {
   "cell_type": "code",
   "execution_count": 18,
   "id": "6c6ddc8f",
   "metadata": {},
   "outputs": [],
   "source": [
    "pd.concat(same_list).to_csv('issue_df.csv', index=0)"
   ]
  },
  {
   "cell_type": "code",
   "execution_count": 10,
   "id": "c2177f55",
   "metadata": {},
   "outputs": [],
   "source": [
    "def reformat(row):\n",
    "    for i in ['cate_1', 'cate_2', 'cate_3']:\n",
    "        if type(row[i]) == type('a'):\n",
    "            if ',' == row[i][-1]:\n",
    "                row[i] = row[i][:-1]\n",
    "            if 'DIVISION' not in row[i]:\n",
    "                row[i] = 'DIVISION '+row[i]\n",
    "    return row"
   ]
  },
  {
   "cell_type": "code",
   "execution_count": 11,
   "id": "8f6ccb73",
   "metadata": {},
   "outputs": [],
   "source": [
    "merge_df= merge_df.apply(lambda x: reformat(x), axis=1)"
   ]
  },
  {
   "cell_type": "code",
   "execution_count": 12,
   "id": "7968444c",
   "metadata": {},
   "outputs": [],
   "source": [
    "merge_df = merge_df.replace(\n",
    "    'DIVISION 15 COMMERCE, MANAGEMENT, TOURISM', 'DIVISION 15 COMMERCE, MANAGEMENT, TOURISM AND SERVICES').replace(\n",
    "    'DIVISION 15 COMMERCE,MANAGEMENT,TOURISM AND SERVICES', 'DIVISION 15 COMMERCE, MANAGEMENT, TOURISM AND SERVICES').replace(\n",
    "    'DIVISION 18 LAW AND LEGAL', 'DIVISION 18 LAW AND LEGAL STUDIES COGNITIVE SCIENCES').replace(\n",
    "    'DIVISION 18 LAW AND LEGAL STUDIES', 'DIVISION 18 LAW AND LEGAL STUDIES COGNITIVE SCIENCES').replace(\n",
    "    'DIVISION 19 STUDIES IN CREATIVE ARTS AND WRITIN', 'DIVISION 19 STUDIES IN CREATIVE ARTS AND WRITING').replace(\n",
    "    'DIVISION 20 LANGUAGE,COMMUNICATION AND CULTURE', 'DIVISION 20 LANGUAGE, COMMUNICATION AND CULTURE').replace(\n",
    "    'DIVISION 20 LANGUAGE COMMUNICATION AND CULTURE', 'DIVISION 20 LANGUAGE, COMMUNICATION AND CULTURE')"
   ]
  },
  {
   "cell_type": "code",
   "execution_count": 23,
   "id": "c36a0d2a",
   "metadata": {},
   "outputs": [],
   "source": [
    "tmp_df = merge_df.melt(id_vars='Tags')[['Tags', 'value']]"
   ]
  },
  {
   "cell_type": "code",
   "execution_count": 28,
   "id": "8e09b243",
   "metadata": {},
   "outputs": [],
   "source": [
    "tmp_df.dropna().drop_duplicates().to_csv('tag_relation_df.csv', index=0)"
   ]
  },
  {
   "cell_type": "code",
   "execution_count": null,
   "id": "275313b8",
   "metadata": {},
   "outputs": [],
   "source": []
  }
 ],
 "metadata": {
  "kernelspec": {
   "display_name": "Python 3 (ipykernel)",
   "language": "python",
   "name": "python3"
  },
  "language_info": {
   "codemirror_mode": {
    "name": "ipython",
    "version": 3
   },
   "file_extension": ".py",
   "mimetype": "text/x-python",
   "name": "python",
   "nbconvert_exporter": "python",
   "pygments_lexer": "ipython3",
   "version": "3.9.0"
  }
 },
 "nbformat": 4,
 "nbformat_minor": 5
}
