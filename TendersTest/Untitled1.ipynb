{
 "cells": [
  {
   "cell_type": "code",
   "execution_count": 1,
   "id": "a0cd29f9",
   "metadata": {},
   "outputs": [],
   "source": [
    "import pandas as pd, numpy as np"
   ]
  },
  {
   "cell_type": "code",
   "execution_count": 2,
   "id": "ba87e1b6",
   "metadata": {},
   "outputs": [],
   "source": [
    "warehouse_df = pd.read_csv('Data/researher_tag_warehouse.csv')"
   ]
  },
  {
   "cell_type": "code",
   "execution_count": 19,
   "id": "eaba08b6",
   "metadata": {},
   "outputs": [],
   "source": [
    "issue_df = pd.read_csv('Data/issue_df_linnie.csv')"
   ]
  },
  {
   "cell_type": "code",
   "execution_count": null,
   "id": "0bc794a3",
   "metadata": {},
   "outputs": [],
   "source": [
    "issue_df = issue_df.melt(id_vars='Tags')[['Tags', 'value']]"
   ]
  },
  {
   "cell_type": "code",
   "execution_count": 35,
   "id": "fc8c48cd",
   "metadata": {},
   "outputs": [],
   "source": [
    "issue_df = issue_df[issue_df['value'].notna()]"
   ]
  },
  {
   "cell_type": "code",
   "execution_count": 29,
   "id": "0de1279f",
   "metadata": {},
   "outputs": [],
   "source": [
    "warehouse_df['Tags'] = warehouse_df['Tags'].str.lower()\n",
    "issue_df['Tags'] = issue_df['Tags'].str.lower()"
   ]
  },
  {
   "cell_type": "code",
   "execution_count": 38,
   "id": "ac88b507",
   "metadata": {},
   "outputs": [],
   "source": [
    "warehouse_df[~warehouse_df['Tags'].isin(issue_df['Tags'])].append(issue_df).to_csv('researcher_tag_warehouse.csv', index=0)"
   ]
  },
  {
   "cell_type": "code",
   "execution_count": null,
   "id": "6cd91da1",
   "metadata": {},
   "outputs": [],
   "source": []
  }
 ],
 "metadata": {
  "kernelspec": {
   "display_name": "Python 3 (ipykernel)",
   "language": "python",
   "name": "python3"
  },
  "language_info": {
   "codemirror_mode": {
    "name": "ipython",
    "version": 3
   },
   "file_extension": ".py",
   "mimetype": "text/x-python",
   "name": "python",
   "nbconvert_exporter": "python",
   "pygments_lexer": "ipython3",
   "version": "3.9.0"
  }
 },
 "nbformat": 4,
 "nbformat_minor": 5
}
