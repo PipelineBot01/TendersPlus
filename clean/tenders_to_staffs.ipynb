{
 "cells": [
  {
   "cell_type": "code",
   "execution_count": 1,
   "id": "6ee457e2",
   "metadata": {},
   "outputs": [],
   "source": [
    "import pandas as pd\n",
    "import numpy as np\n",
    "import matplotlib.pyplot as plt\n",
    "import random"
   ]
  },
  {
   "cell_type": "code",
   "execution_count": 2,
   "id": "c8c7b9d6",
   "metadata": {},
   "outputs": [],
   "source": [
    "def bar_number_h(category,value,value2):\n",
    "    for index in range(len(category)):\n",
    "        rect=category[index]\n",
    "        if type(value[index])==type(1): plt.text(value2[index], rect.get_y()+rect.get_height()/2, '%d' %value[index], ha='left', va='center')\n",
    "        else: plt.text(value2[index], rect.get_y()+rect.get_height()/2, '%0.2f' %value[index], ha='left', va='center')"
   ]
  },
  {
   "cell_type": "code",
   "execution_count": 3,
   "id": "38de37b2",
   "metadata": {},
   "outputs": [],
   "source": [
    "staff_df = pd.read_csv('dataset/ScraperResult_UC.csv')\n",
    "relate_tenders_df = pd.read_csv('dataset/research_relevant_2.csv')\n",
    "tenders_df = pd.read_csv(\"dataset/tenders_Original.csv\")"
   ]
  },
  {
   "cell_type": "code",
   "execution_count": 4,
   "id": "e0881319",
   "metadata": {},
   "outputs": [],
   "source": [
    "name_tag_df = staff_df[['Name','StuffTags','ProjectTags']]"
   ]
  },
  {
   "cell_type": "code",
   "execution_count": 5,
   "id": "2ccf3d92",
   "metadata": {},
   "outputs": [],
   "source": [
    "name = []\n",
    "tag_name = []\n",
    "tag_weight = []\n",
    "for i in name_tag_df.index:\n",
    "    n = name_tag_df.loc[i,'Name']\n",
    "    temp=''\n",
    "    if(not pd.isnull(name_tag_df.loc[i,'StuffTags'])):\n",
    "        temp += name_tag_df.loc[i,'StuffTags']\n",
    "    if(not pd.isnull(name_tag_df.loc[i,'ProjectTags'])):\n",
    "        temp=temp+'<bk>'+name_tag_df.loc[i,'ProjectTags']\n",
    "    tags = temp.split('<bk>')\n",
    "    for tag in tags:\n",
    "        if len(tag)>0:\n",
    "            t_w = tag.split('<weight>')\n",
    "\n",
    "            name.append(n)\n",
    "            tag_name.append(t_w[0])\n",
    "            tag_weight.append(int(t_w[1][:-1])/100)\n",
    "\n"
   ]
  },
  {
   "cell_type": "code",
   "execution_count": 6,
   "id": "3acf676b",
   "metadata": {},
   "outputs": [],
   "source": [
    "name = []\n",
    "tag_name = []\n",
    "tag_weight = []\n",
    "for i in name_tag_df.index:\n",
    "    n = name_tag_df.loc[i,'Name']\n",
    "    temp=''\n",
    "    if(not pd.isnull(name_tag_df.loc[i,'StuffTags'])):\n",
    "        temp += name_tag_df.loc[i,'StuffTags']\n",
    "    tags = temp.split('<bk>')\n",
    "    for tag in tags:\n",
    "        if len(tag)>0:\n",
    "            t_w = tag.split('<weight>')\n",
    "            name.append(n)\n",
    "            tag_name.append(t_w[0])\n",
    "            tag_weight.append(int(t_w[1][:-1])/100)"
   ]
  },
  {
   "cell_type": "code",
   "execution_count": 7,
   "id": "85177f11",
   "metadata": {},
   "outputs": [
    {
     "data": {
      "text/html": [
       "<div>\n",
       "<style scoped>\n",
       "    .dataframe tbody tr th:only-of-type {\n",
       "        vertical-align: middle;\n",
       "    }\n",
       "\n",
       "    .dataframe tbody tr th {\n",
       "        vertical-align: top;\n",
       "    }\n",
       "\n",
       "    .dataframe thead th {\n",
       "        text-align: right;\n",
       "    }\n",
       "</style>\n",
       "<table border=\"1\" class=\"dataframe\">\n",
       "  <thead>\n",
       "    <tr style=\"text-align: right;\">\n",
       "      <th></th>\n",
       "      <th>Name</th>\n",
       "      <th>Tag</th>\n",
       "      <th>Weight</th>\n",
       "    </tr>\n",
       "  </thead>\n",
       "  <tbody>\n",
       "    <tr>\n",
       "      <th>0</th>\n",
       "      <td>Mohammad Abualsheikh</td>\n",
       "      <td>Wireless sensor networks</td>\n",
       "      <td>1.00</td>\n",
       "    </tr>\n",
       "    <tr>\n",
       "      <th>1</th>\n",
       "      <td>Mohammad Abualsheikh</td>\n",
       "      <td>Internet of things</td>\n",
       "      <td>0.93</td>\n",
       "    </tr>\n",
       "    <tr>\n",
       "      <th>2</th>\n",
       "      <td>Mohammad Abualsheikh</td>\n",
       "      <td>Big data</td>\n",
       "      <td>0.65</td>\n",
       "    </tr>\n",
       "    <tr>\n",
       "      <th>3</th>\n",
       "      <td>Mohammad Abualsheikh</td>\n",
       "      <td>Data Analytics</td>\n",
       "      <td>0.63</td>\n",
       "    </tr>\n",
       "    <tr>\n",
       "      <th>4</th>\n",
       "      <td>Mohammad Abualsheikh</td>\n",
       "      <td>Profitability</td>\n",
       "      <td>0.55</td>\n",
       "    </tr>\n",
       "    <tr>\n",
       "      <th>...</th>\n",
       "      <td>...</td>\n",
       "      <td>...</td>\n",
       "      <td>...</td>\n",
       "    </tr>\n",
       "    <tr>\n",
       "      <th>24611</th>\n",
       "      <td>Li Zhou</td>\n",
       "      <td>aluminum</td>\n",
       "      <td>0.24</td>\n",
       "    </tr>\n",
       "    <tr>\n",
       "      <th>24612</th>\n",
       "      <td>Li Zhou</td>\n",
       "      <td>dosage</td>\n",
       "      <td>0.13</td>\n",
       "    </tr>\n",
       "    <tr>\n",
       "      <th>24613</th>\n",
       "      <td>Li Zhou</td>\n",
       "      <td>examination</td>\n",
       "      <td>0.08</td>\n",
       "    </tr>\n",
       "    <tr>\n",
       "      <th>24614</th>\n",
       "      <td>Li Zhou</td>\n",
       "      <td>strip</td>\n",
       "      <td>0.05</td>\n",
       "    </tr>\n",
       "    <tr>\n",
       "      <th>24615</th>\n",
       "      <td>Li Zhou</td>\n",
       "      <td>Perspex (trademark)</td>\n",
       "      <td>0.05</td>\n",
       "    </tr>\n",
       "  </tbody>\n",
       "</table>\n",
       "<p>24616 rows × 3 columns</p>\n",
       "</div>"
      ],
      "text/plain": [
       "                       Name                       Tag  Weight\n",
       "0      Mohammad Abualsheikh  Wireless sensor networks    1.00\n",
       "1      Mohammad Abualsheikh        Internet of things    0.93\n",
       "2      Mohammad Abualsheikh                  Big data    0.65\n",
       "3      Mohammad Abualsheikh            Data Analytics    0.63\n",
       "4      Mohammad Abualsheikh             Profitability    0.55\n",
       "...                     ...                       ...     ...\n",
       "24611               Li Zhou                  aluminum    0.24\n",
       "24612               Li Zhou                    dosage    0.13\n",
       "24613               Li Zhou               examination    0.08\n",
       "24614               Li Zhou                     strip    0.05\n",
       "24615               Li Zhou       Perspex (trademark)    0.05\n",
       "\n",
       "[24616 rows x 3 columns]"
      ]
     },
     "execution_count": 7,
     "metadata": {},
     "output_type": "execute_result"
    }
   ],
   "source": [
    "tag_df2 = pd.DataFrame(None,columns=['Name', 'Tag', 'Weight'])\n",
    "tag_df2['Name'] = name\n",
    "tag_df2['Tag'] = tag_name\n",
    "tag_df2['Weight'] = tag_weight\n",
    "tag_df2"
   ]
  },
  {
   "cell_type": "code",
   "execution_count": 8,
   "id": "d1e4ca96",
   "metadata": {},
   "outputs": [
    {
     "data": {
      "text/html": [
       "<div>\n",
       "<style scoped>\n",
       "    .dataframe tbody tr th:only-of-type {\n",
       "        vertical-align: middle;\n",
       "    }\n",
       "\n",
       "    .dataframe tbody tr th {\n",
       "        vertical-align: top;\n",
       "    }\n",
       "\n",
       "    .dataframe thead th {\n",
       "        text-align: right;\n",
       "    }\n",
       "</style>\n",
       "<table border=\"1\" class=\"dataframe\">\n",
       "  <thead>\n",
       "    <tr style=\"text-align: right;\">\n",
       "      <th></th>\n",
       "      <th>Name</th>\n",
       "      <th>Tag</th>\n",
       "      <th>Weight</th>\n",
       "    </tr>\n",
       "  </thead>\n",
       "  <tbody>\n",
       "    <tr>\n",
       "      <th>0</th>\n",
       "      <td>Mohammad Abualsheikh</td>\n",
       "      <td>Wireless sensor networks</td>\n",
       "      <td>1.00</td>\n",
       "    </tr>\n",
       "    <tr>\n",
       "      <th>1</th>\n",
       "      <td>Mohammad Abualsheikh</td>\n",
       "      <td>Internet of things</td>\n",
       "      <td>0.93</td>\n",
       "    </tr>\n",
       "    <tr>\n",
       "      <th>2</th>\n",
       "      <td>Mohammad Abualsheikh</td>\n",
       "      <td>Big data</td>\n",
       "      <td>0.65</td>\n",
       "    </tr>\n",
       "    <tr>\n",
       "      <th>3</th>\n",
       "      <td>Mohammad Abualsheikh</td>\n",
       "      <td>Data Analytics</td>\n",
       "      <td>0.63</td>\n",
       "    </tr>\n",
       "    <tr>\n",
       "      <th>4</th>\n",
       "      <td>Mohammad Abualsheikh</td>\n",
       "      <td>Profitability</td>\n",
       "      <td>0.55</td>\n",
       "    </tr>\n",
       "    <tr>\n",
       "      <th>...</th>\n",
       "      <td>...</td>\n",
       "      <td>...</td>\n",
       "      <td>...</td>\n",
       "    </tr>\n",
       "    <tr>\n",
       "      <th>24611</th>\n",
       "      <td>Li Zhou</td>\n",
       "      <td>aluminum</td>\n",
       "      <td>0.24</td>\n",
       "    </tr>\n",
       "    <tr>\n",
       "      <th>24612</th>\n",
       "      <td>Li Zhou</td>\n",
       "      <td>dosage</td>\n",
       "      <td>0.13</td>\n",
       "    </tr>\n",
       "    <tr>\n",
       "      <th>24613</th>\n",
       "      <td>Li Zhou</td>\n",
       "      <td>examination</td>\n",
       "      <td>0.08</td>\n",
       "    </tr>\n",
       "    <tr>\n",
       "      <th>24614</th>\n",
       "      <td>Li Zhou</td>\n",
       "      <td>strip</td>\n",
       "      <td>0.05</td>\n",
       "    </tr>\n",
       "    <tr>\n",
       "      <th>24615</th>\n",
       "      <td>Li Zhou</td>\n",
       "      <td>Perspex (trademark)</td>\n",
       "      <td>0.05</td>\n",
       "    </tr>\n",
       "  </tbody>\n",
       "</table>\n",
       "<p>24616 rows × 3 columns</p>\n",
       "</div>"
      ],
      "text/plain": [
       "                       Name                       Tag  Weight\n",
       "0      Mohammad Abualsheikh  Wireless sensor networks    1.00\n",
       "1      Mohammad Abualsheikh        Internet of things    0.93\n",
       "2      Mohammad Abualsheikh                  Big data    0.65\n",
       "3      Mohammad Abualsheikh            Data Analytics    0.63\n",
       "4      Mohammad Abualsheikh             Profitability    0.55\n",
       "...                     ...                       ...     ...\n",
       "24611               Li Zhou                  aluminum    0.24\n",
       "24612               Li Zhou                    dosage    0.13\n",
       "24613               Li Zhou               examination    0.08\n",
       "24614               Li Zhou                     strip    0.05\n",
       "24615               Li Zhou       Perspex (trademark)    0.05\n",
       "\n",
       "[24616 rows x 3 columns]"
      ]
     },
     "execution_count": 8,
     "metadata": {},
     "output_type": "execute_result"
    }
   ],
   "source": [
    "tag_df = pd.DataFrame(None,columns=['Name', 'Tag', 'Weight'])\n",
    "tag_df['Name'] = name\n",
    "tag_df['Tag'] = tag_name\n",
    "tag_df['Weight'] = tag_weight\n",
    "tag_df"
   ]
  },
  {
   "cell_type": "code",
   "execution_count": 9,
   "id": "c697a7de",
   "metadata": {},
   "outputs": [],
   "source": [
    "# tag_df.to_csv('dataset/staff_name_tag.csv')"
   ]
  },
  {
   "cell_type": "code",
   "execution_count": 10,
   "id": "2737961c",
   "metadata": {},
   "outputs": [],
   "source": [
    "# tenders_df.head(1)"
   ]
  },
  {
   "cell_type": "code",
   "execution_count": 11,
   "id": "b0af4e2a",
   "metadata": {},
   "outputs": [],
   "source": [
    "tags_df = pd.read_csv(\"dataset/staff_name_tag.csv\")\n",
    "# tags_df.head(1)"
   ]
  },
  {
   "cell_type": "code",
   "execution_count": 12,
   "id": "f0f3f173",
   "metadata": {},
   "outputs": [],
   "source": [
    "# directly match \n",
    "tag_list = list(tag_df2['Tag'].unique())\n",
    "compare_list = [t.lower() for t in tag_list]\n",
    "compare_list = set(compare_list)\n",
    "# len(compare_list)"
   ]
  },
  {
   "cell_type": "code",
   "execution_count": 13,
   "id": "51b68190",
   "metadata": {},
   "outputs": [],
   "source": [
    "# relate_tenders_df"
   ]
  },
  {
   "cell_type": "code",
   "execution_count": 14,
   "id": "ac7d1557",
   "metadata": {},
   "outputs": [
    {
     "name": "stderr",
     "output_type": "stream",
     "text": [
      "C:\\Users\\24966\\AppData\\Local\\Temp/ipykernel_21120/1624996702.py:4: UserWarning: This pattern has match groups. To actually get the groups, use str.extract.\n",
      "  res_df = relate_tenders_df[(relate_tenders_df['Description'].str.contains(t))|(relate_tenders_df['Category'].str.contains(t))|(relate_tenders_df['Category'].str.contains(t))].copy()\n"
     ]
    }
   ],
   "source": [
    "temp_df2 = pd.DataFrame(columns = relate_tenders_df.columns)\n",
    "dic = {}\n",
    "for t in compare_list:\n",
    "    res_df = relate_tenders_df[(relate_tenders_df['Description'].str.contains(t))|(relate_tenders_df['Category'].str.contains(t))|(relate_tenders_df['Category'].str.contains(t))].copy()\n",
    "    for cates in res_df['Category'].values:\n",
    "        if cates not in dic.keys():dic[cates]=1\n",
    "        else: dic[cates]+=1    \n",
    "    temp_df2 = pd.concat((temp_df2,res_df))\n",
    "    temp_df2.drop_duplicates(subset=['ATM ID','Category'], keep='first', inplace=True)"
   ]
  },
  {
   "cell_type": "code",
   "execution_count": 16,
   "id": "05d58f8e",
   "metadata": {},
   "outputs": [
    {
     "data": {
      "image/png": "[encoded data removed]",
      "text/plain": [
       "<Figure size 432x288 with 1 Axes>"
      ]
     },
     "metadata": {
      "needs_background": "light"
     },
     "output_type": "display_data"
    }
   ],
   "source": [
    "dic = sorted(dic.items(),key=lambda x:x[1],reverse =True)\n",
    "Y_axis = np.arange(10)\n",
    "x = [i[1] for i in dic[:10][::-1]]\n",
    "proportion = plt.barh(Y_axis,x, 0.5, label='number', color='deepskyblue', alpha=1)\n",
    "bar_number_h(proportion, x, x)\n",
    "\n",
    "plt.yticks(Y_axis, [i[0] for i in dic[:10]][::-1])\n",
    "plt.ylabel(\"Category name\")\n",
    "plt.xlabel(\"Number of category\")\n",
    "# plt.legend()\n",
    "plt.show()"
   ]
  },
  {
   "cell_type": "code",
   "execution_count": null,
   "id": "f29fe055",
   "metadata": {},
   "outputs": [],
   "source": [
    "cate_list = list(temp_df2['Category'].unique())\n",
    "dic = {}\n",
    "for cate in cate_list:\n",
    "    dic[cate] = len(temp_df2[temp_df2['Category']==cate])\n",
    "dic = sorted(dic.items(),key=lambda x:x[1],reverse =True)\n",
    "Y_axis = np.arange(10)\n",
    "x = [i[1] for i in dic[:10][::-1]]\n",
    "proportion = plt.barh(Y_axis,x, 0.5, label='number', color='deepskyblue', alpha=1)\n",
    "bar_number_h(proportion, x, x)\n",
    "\n",
    "plt.yticks(Y_axis, [i[0] for i in dic[:10]][::-1])\n",
    "plt.ylabel(\"Category name\")\n",
    "plt.xlabel(\"Number of category\")\n",
    "# plt.legend()\n",
    "plt.show()"
   ]
  },
  {
   "cell_type": "code",
   "execution_count": null,
   "id": "bdf7baa1",
   "metadata": {},
   "outputs": [],
   "source": []
  },
  {
   "cell_type": "code",
   "execution_count": 25,
   "id": "03bdd98d",
   "metadata": {
    "collapsed": true
   },
   "outputs": [
    {
     "name": "stderr",
     "output_type": "stream",
     "text": [
      "C:\\Users\\24966\\AppData\\Local\\Temp/ipykernel_13972/3959271151.py:3: UserWarning: This pattern has match groups. To actually get the groups, use str.extract.\n",
      "  res_df = tenders_df[(tenders_df['Description'].str.contains(t))|(tenders_df['Category'].str.contains(t))|(tenders_df['Category'].str.contains(t))].copy()\n"
     ]
    },
    {
     "ename": "KeyboardInterrupt",
     "evalue": "",
     "output_type": "error",
     "traceback": [
      "\u001b[1;31m---------------------------------------------------------------------------\u001b[0m",
      "\u001b[1;31mKeyboardInterrupt\u001b[0m                         Traceback (most recent call last)",
      "\u001b[1;32m~\\AppData\\Local\\Temp/ipykernel_13972/3959271151.py\u001b[0m in \u001b[0;36m<module>\u001b[1;34m\u001b[0m\n\u001b[0;32m      1\u001b[0m \u001b[0mtemp_df2\u001b[0m \u001b[1;33m=\u001b[0m \u001b[0mpd\u001b[0m\u001b[1;33m.\u001b[0m\u001b[0mDataFrame\u001b[0m\u001b[1;33m(\u001b[0m\u001b[0mcolumns\u001b[0m \u001b[1;33m=\u001b[0m \u001b[0mtenders_df\u001b[0m\u001b[1;33m.\u001b[0m\u001b[0mcolumns\u001b[0m\u001b[1;33m)\u001b[0m\u001b[1;33m\u001b[0m\u001b[1;33m\u001b[0m\u001b[0m\n\u001b[0;32m      2\u001b[0m \u001b[1;32mfor\u001b[0m \u001b[0mt\u001b[0m \u001b[1;32min\u001b[0m \u001b[0mcompare_list\u001b[0m\u001b[1;33m:\u001b[0m\u001b[1;33m\u001b[0m\u001b[1;33m\u001b[0m\u001b[0m\n\u001b[1;32m----> 3\u001b[1;33m     \u001b[0mres_df\u001b[0m \u001b[1;33m=\u001b[0m \u001b[0mtenders_df\u001b[0m\u001b[1;33m[\u001b[0m\u001b[1;33m(\u001b[0m\u001b[0mtenders_df\u001b[0m\u001b[1;33m[\u001b[0m\u001b[1;34m'Description'\u001b[0m\u001b[1;33m]\u001b[0m\u001b[1;33m.\u001b[0m\u001b[0mstr\u001b[0m\u001b[1;33m.\u001b[0m\u001b[0mcontains\u001b[0m\u001b[1;33m(\u001b[0m\u001b[0mt\u001b[0m\u001b[1;33m)\u001b[0m\u001b[1;33m)\u001b[0m\u001b[1;33m|\u001b[0m\u001b[1;33m(\u001b[0m\u001b[0mtenders_df\u001b[0m\u001b[1;33m[\u001b[0m\u001b[1;34m'Category'\u001b[0m\u001b[1;33m]\u001b[0m\u001b[1;33m.\u001b[0m\u001b[0mstr\u001b[0m\u001b[1;33m.\u001b[0m\u001b[0mcontains\u001b[0m\u001b[1;33m(\u001b[0m\u001b[0mt\u001b[0m\u001b[1;33m)\u001b[0m\u001b[1;33m)\u001b[0m\u001b[1;33m|\u001b[0m\u001b[1;33m(\u001b[0m\u001b[0mtenders_df\u001b[0m\u001b[1;33m[\u001b[0m\u001b[1;34m'Category'\u001b[0m\u001b[1;33m]\u001b[0m\u001b[1;33m.\u001b[0m\u001b[0mstr\u001b[0m\u001b[1;33m.\u001b[0m\u001b[0mcontains\u001b[0m\u001b[1;33m(\u001b[0m\u001b[0mt\u001b[0m\u001b[1;33m)\u001b[0m\u001b[1;33m)\u001b[0m\u001b[1;33m]\u001b[0m\u001b[1;33m.\u001b[0m\u001b[0mcopy\u001b[0m\u001b[1;33m(\u001b[0m\u001b[1;33m)\u001b[0m\u001b[1;33m\u001b[0m\u001b[1;33m\u001b[0m\u001b[0m\n\u001b[0m\u001b[0;32m      4\u001b[0m     \u001b[0mtemp_df2\u001b[0m \u001b[1;33m=\u001b[0m \u001b[0mpd\u001b[0m\u001b[1;33m.\u001b[0m\u001b[0mconcat\u001b[0m\u001b[1;33m(\u001b[0m\u001b[1;33m(\u001b[0m\u001b[0mtemp_df2\u001b[0m\u001b[1;33m,\u001b[0m\u001b[0mres_df\u001b[0m\u001b[1;33m)\u001b[0m\u001b[1;33m)\u001b[0m\u001b[1;33m\u001b[0m\u001b[1;33m\u001b[0m\u001b[0m\n\u001b[0;32m      5\u001b[0m     \u001b[0mtemp_df2\u001b[0m\u001b[1;33m.\u001b[0m\u001b[0mdrop_duplicates\u001b[0m\u001b[1;33m(\u001b[0m\u001b[0msubset\u001b[0m\u001b[1;33m=\u001b[0m\u001b[1;33m[\u001b[0m\u001b[1;34m'ATM ID'\u001b[0m\u001b[1;33m,\u001b[0m\u001b[1;34m'Category'\u001b[0m\u001b[1;33m]\u001b[0m\u001b[1;33m,\u001b[0m \u001b[0mkeep\u001b[0m\u001b[1;33m=\u001b[0m\u001b[1;34m'first'\u001b[0m\u001b[1;33m,\u001b[0m \u001b[0minplace\u001b[0m\u001b[1;33m=\u001b[0m\u001b[1;32mTrue\u001b[0m\u001b[1;33m)\u001b[0m\u001b[1;33m\u001b[0m\u001b[1;33m\u001b[0m\u001b[0m\n",
      "\u001b[1;32mc:\\users\\24966\\appdata\\local\\programs\\python\\python39\\lib\\site-packages\\pandas\\core\\ops\\common.py\u001b[0m in \u001b[0;36mnew_method\u001b[1;34m(self, other)\u001b[0m\n\u001b[0;32m     67\u001b[0m         \u001b[0mother\u001b[0m \u001b[1;33m=\u001b[0m \u001b[0mitem_from_zerodim\u001b[0m\u001b[1;33m(\u001b[0m\u001b[0mother\u001b[0m\u001b[1;33m)\u001b[0m\u001b[1;33m\u001b[0m\u001b[1;33m\u001b[0m\u001b[0m\n\u001b[0;32m     68\u001b[0m \u001b[1;33m\u001b[0m\u001b[0m\n\u001b[1;32m---> 69\u001b[1;33m         \u001b[1;32mreturn\u001b[0m \u001b[0mmethod\u001b[0m\u001b[1;33m(\u001b[0m\u001b[0mself\u001b[0m\u001b[1;33m,\u001b[0m \u001b[0mother\u001b[0m\u001b[1;33m)\u001b[0m\u001b[1;33m\u001b[0m\u001b[1;33m\u001b[0m\u001b[0m\n\u001b[0m\u001b[0;32m     70\u001b[0m \u001b[1;33m\u001b[0m\u001b[0m\n\u001b[0;32m     71\u001b[0m     \u001b[1;32mreturn\u001b[0m \u001b[0mnew_method\u001b[0m\u001b[1;33m\u001b[0m\u001b[1;33m\u001b[0m\u001b[0m\n",
      "\u001b[1;32mc:\\users\\24966\\appdata\\local\\programs\\python\\python39\\lib\\site-packages\\pandas\\core\\arraylike.py\u001b[0m in \u001b[0;36m__or__\u001b[1;34m(self, other)\u001b[0m\n\u001b[0;32m     68\u001b[0m     \u001b[1;33m@\u001b[0m\u001b[0munpack_zerodim_and_defer\u001b[0m\u001b[1;33m(\u001b[0m\u001b[1;34m\"__or__\"\u001b[0m\u001b[1;33m)\u001b[0m\u001b[1;33m\u001b[0m\u001b[1;33m\u001b[0m\u001b[0m\n\u001b[0;32m     69\u001b[0m     \u001b[1;32mdef\u001b[0m \u001b[0m__or__\u001b[0m\u001b[1;33m(\u001b[0m\u001b[0mself\u001b[0m\u001b[1;33m,\u001b[0m \u001b[0mother\u001b[0m\u001b[1;33m)\u001b[0m\u001b[1;33m:\u001b[0m\u001b[1;33m\u001b[0m\u001b[1;33m\u001b[0m\u001b[0m\n\u001b[1;32m---> 70\u001b[1;33m         \u001b[1;32mreturn\u001b[0m \u001b[0mself\u001b[0m\u001b[1;33m.\u001b[0m\u001b[0m_logical_method\u001b[0m\u001b[1;33m(\u001b[0m\u001b[0mother\u001b[0m\u001b[1;33m,\u001b[0m \u001b[0moperator\u001b[0m\u001b[1;33m.\u001b[0m\u001b[0mor_\u001b[0m\u001b[1;33m)\u001b[0m\u001b[1;33m\u001b[0m\u001b[1;33m\u001b[0m\u001b[0m\n\u001b[0m\u001b[0;32m     71\u001b[0m \u001b[1;33m\u001b[0m\u001b[0m\n\u001b[0;32m     72\u001b[0m     \u001b[1;33m@\u001b[0m\u001b[0munpack_zerodim_and_defer\u001b[0m\u001b[1;33m(\u001b[0m\u001b[1;34m\"__ror__\"\u001b[0m\u001b[1;33m)\u001b[0m\u001b[1;33m\u001b[0m\u001b[1;33m\u001b[0m\u001b[0m\n",
      "\u001b[1;32mc:\\users\\24966\\appdata\\local\\programs\\python\\python39\\lib\\site-packages\\pandas\\core\\series.py\u001b[0m in \u001b[0;36m_logical_method\u001b[1;34m(self, other, op)\u001b[0m\n\u001b[0;32m   5510\u001b[0m         \u001b[0mrvalues\u001b[0m \u001b[1;33m=\u001b[0m \u001b[0mextract_array\u001b[0m\u001b[1;33m(\u001b[0m\u001b[0mother\u001b[0m\u001b[1;33m,\u001b[0m \u001b[0mextract_numpy\u001b[0m\u001b[1;33m=\u001b[0m\u001b[1;32mTrue\u001b[0m\u001b[1;33m,\u001b[0m \u001b[0mextract_range\u001b[0m\u001b[1;33m=\u001b[0m\u001b[1;32mTrue\u001b[0m\u001b[1;33m)\u001b[0m\u001b[1;33m\u001b[0m\u001b[1;33m\u001b[0m\u001b[0m\n\u001b[0;32m   5511\u001b[0m \u001b[1;33m\u001b[0m\u001b[0m\n\u001b[1;32m-> 5512\u001b[1;33m         \u001b[0mres_values\u001b[0m \u001b[1;33m=\u001b[0m \u001b[0mops\u001b[0m\u001b[1;33m.\u001b[0m\u001b[0mlogical_op\u001b[0m\u001b[1;33m(\u001b[0m\u001b[0mlvalues\u001b[0m\u001b[1;33m,\u001b[0m \u001b[0mrvalues\u001b[0m\u001b[1;33m,\u001b[0m \u001b[0mop\u001b[0m\u001b[1;33m)\u001b[0m\u001b[1;33m\u001b[0m\u001b[1;33m\u001b[0m\u001b[0m\n\u001b[0m\u001b[0;32m   5513\u001b[0m         \u001b[1;32mreturn\u001b[0m \u001b[0mself\u001b[0m\u001b[1;33m.\u001b[0m\u001b[0m_construct_result\u001b[0m\u001b[1;33m(\u001b[0m\u001b[0mres_values\u001b[0m\u001b[1;33m,\u001b[0m \u001b[0mname\u001b[0m\u001b[1;33m=\u001b[0m\u001b[0mres_name\u001b[0m\u001b[1;33m)\u001b[0m\u001b[1;33m\u001b[0m\u001b[1;33m\u001b[0m\u001b[0m\n\u001b[0;32m   5514\u001b[0m \u001b[1;33m\u001b[0m\u001b[0m\n",
      "\u001b[1;32mc:\\users\\24966\\appdata\\local\\programs\\python\\python39\\lib\\site-packages\\pandas\\core\\ops\\array_ops.py\u001b[0m in \u001b[0;36mlogical_op\u001b[1;34m(left, right, op)\u001b[0m\n\u001b[0;32m    380\u001b[0m         \u001b[1;32mif\u001b[0m \u001b[0misinstance\u001b[0m\u001b[1;33m(\u001b[0m\u001b[0mrvalues\u001b[0m\u001b[1;33m,\u001b[0m \u001b[0mnp\u001b[0m\u001b[1;33m.\u001b[0m\u001b[0mndarray\u001b[0m\u001b[1;33m)\u001b[0m\u001b[1;33m:\u001b[0m\u001b[1;33m\u001b[0m\u001b[1;33m\u001b[0m\u001b[0m\n\u001b[0;32m    381\u001b[0m             \u001b[0mis_other_int_dtype\u001b[0m \u001b[1;33m=\u001b[0m \u001b[0mis_integer_dtype\u001b[0m\u001b[1;33m(\u001b[0m\u001b[0mrvalues\u001b[0m\u001b[1;33m.\u001b[0m\u001b[0mdtype\u001b[0m\u001b[1;33m)\u001b[0m\u001b[1;33m\u001b[0m\u001b[1;33m\u001b[0m\u001b[0m\n\u001b[1;32m--> 382\u001b[1;33m             \u001b[0mrvalues\u001b[0m \u001b[1;33m=\u001b[0m \u001b[0mrvalues\u001b[0m \u001b[1;32mif\u001b[0m \u001b[0mis_other_int_dtype\u001b[0m \u001b[1;32melse\u001b[0m \u001b[0mfill_bool\u001b[0m\u001b[1;33m(\u001b[0m\u001b[0mrvalues\u001b[0m\u001b[1;33m,\u001b[0m \u001b[0mlvalues\u001b[0m\u001b[1;33m)\u001b[0m\u001b[1;33m\u001b[0m\u001b[1;33m\u001b[0m\u001b[0m\n\u001b[0m\u001b[0;32m    383\u001b[0m \u001b[1;33m\u001b[0m\u001b[0m\n\u001b[0;32m    384\u001b[0m         \u001b[1;32melse\u001b[0m\u001b[1;33m:\u001b[0m\u001b[1;33m\u001b[0m\u001b[1;33m\u001b[0m\u001b[0m\n",
      "\u001b[1;32mc:\\users\\24966\\appdata\\local\\programs\\python\\python39\\lib\\site-packages\\pandas\\core\\ops\\array_ops.py\u001b[0m in \u001b[0;36mfill_bool\u001b[1;34m(x, left)\u001b[0m\n\u001b[0;32m    354\u001b[0m             \u001b[1;31m# dtypes that can hold NA\u001b[0m\u001b[1;33m\u001b[0m\u001b[1;33m\u001b[0m\u001b[1;33m\u001b[0m\u001b[0m\n\u001b[0;32m    355\u001b[0m             \u001b[0mmask\u001b[0m \u001b[1;33m=\u001b[0m \u001b[0misna\u001b[0m\u001b[1;33m(\u001b[0m\u001b[0mx\u001b[0m\u001b[1;33m)\u001b[0m\u001b[1;33m\u001b[0m\u001b[1;33m\u001b[0m\u001b[0m\n\u001b[1;32m--> 356\u001b[1;33m             \u001b[1;32mif\u001b[0m \u001b[0mmask\u001b[0m\u001b[1;33m.\u001b[0m\u001b[0many\u001b[0m\u001b[1;33m(\u001b[0m\u001b[1;33m)\u001b[0m\u001b[1;33m:\u001b[0m\u001b[1;33m\u001b[0m\u001b[1;33m\u001b[0m\u001b[0m\n\u001b[0m\u001b[0;32m    357\u001b[0m                 \u001b[0mx\u001b[0m \u001b[1;33m=\u001b[0m \u001b[0mx\u001b[0m\u001b[1;33m.\u001b[0m\u001b[0mastype\u001b[0m\u001b[1;33m(\u001b[0m\u001b[0mobject\u001b[0m\u001b[1;33m)\u001b[0m\u001b[1;33m\u001b[0m\u001b[1;33m\u001b[0m\u001b[0m\n\u001b[0;32m    358\u001b[0m                 \u001b[0mx\u001b[0m\u001b[1;33m[\u001b[0m\u001b[0mmask\u001b[0m\u001b[1;33m]\u001b[0m \u001b[1;33m=\u001b[0m \u001b[1;32mFalse\u001b[0m\u001b[1;33m\u001b[0m\u001b[1;33m\u001b[0m\u001b[0m\n",
      "\u001b[1;32mc:\\users\\24966\\appdata\\local\\programs\\python\\python39\\lib\\site-packages\\numpy\\core\\_methods.py\u001b[0m in \u001b[0;36m_any\u001b[1;34m(a, axis, dtype, out, keepdims, where)\u001b[0m\n\u001b[0;32m     55\u001b[0m     \u001b[1;31m# Parsing keyword arguments is currently fairly slow, so avoid it for now\u001b[0m\u001b[1;33m\u001b[0m\u001b[1;33m\u001b[0m\u001b[1;33m\u001b[0m\u001b[0m\n\u001b[0;32m     56\u001b[0m     \u001b[1;32mif\u001b[0m \u001b[0mwhere\u001b[0m \u001b[1;32mis\u001b[0m \u001b[1;32mTrue\u001b[0m\u001b[1;33m:\u001b[0m\u001b[1;33m\u001b[0m\u001b[1;33m\u001b[0m\u001b[0m\n\u001b[1;32m---> 57\u001b[1;33m         \u001b[1;32mreturn\u001b[0m \u001b[0mumr_any\u001b[0m\u001b[1;33m(\u001b[0m\u001b[0ma\u001b[0m\u001b[1;33m,\u001b[0m \u001b[0maxis\u001b[0m\u001b[1;33m,\u001b[0m \u001b[0mdtype\u001b[0m\u001b[1;33m,\u001b[0m \u001b[0mout\u001b[0m\u001b[1;33m,\u001b[0m \u001b[0mkeepdims\u001b[0m\u001b[1;33m)\u001b[0m\u001b[1;33m\u001b[0m\u001b[1;33m\u001b[0m\u001b[0m\n\u001b[0m\u001b[0;32m     58\u001b[0m     \u001b[1;32mreturn\u001b[0m \u001b[0mumr_any\u001b[0m\u001b[1;33m(\u001b[0m\u001b[0ma\u001b[0m\u001b[1;33m,\u001b[0m \u001b[0maxis\u001b[0m\u001b[1;33m,\u001b[0m \u001b[0mdtype\u001b[0m\u001b[1;33m,\u001b[0m \u001b[0mout\u001b[0m\u001b[1;33m,\u001b[0m \u001b[0mkeepdims\u001b[0m\u001b[1;33m,\u001b[0m \u001b[0mwhere\u001b[0m\u001b[1;33m=\u001b[0m\u001b[0mwhere\u001b[0m\u001b[1;33m)\u001b[0m\u001b[1;33m\u001b[0m\u001b[1;33m\u001b[0m\u001b[0m\n\u001b[0;32m     59\u001b[0m \u001b[1;33m\u001b[0m\u001b[0m\n",
      "\u001b[1;31mKeyboardInterrupt\u001b[0m: "
     ]
    }
   ],
   "source": [
    "temp_df2 = pd.DataFrame(columns = tenders_df.columns)\n",
    "for t in compare_list:\n",
    "    res_df = tenders_df[(tenders_df['Description'].str.contains(t))|(tenders_df['Category'].str.contains(t))|(tenders_df['Category'].str.contains(t))].copy()\n",
    "    temp_df2 = pd.concat((temp_df2,res_df))\n",
    "    temp_df2.drop_duplicates(subset=['ATM ID','Category'], keep='first', inplace=True)"
   ]
  },
  {
   "cell_type": "code",
   "execution_count": 18,
   "id": "9e46abef",
   "metadata": {},
   "outputs": [
    {
     "data": {
      "text/html": [
       "<div>\n",
       "<style scoped>\n",
       "    .dataframe tbody tr th:only-of-type {\n",
       "        vertical-align: middle;\n",
       "    }\n",
       "\n",
       "    .dataframe tbody tr th {\n",
       "        vertical-align: top;\n",
       "    }\n",
       "\n",
       "    .dataframe thead th {\n",
       "        text-align: right;\n",
       "    }\n",
       "</style>\n",
       "<table border=\"1\" class=\"dataframe\">\n",
       "  <thead>\n",
       "    <tr style=\"text-align: right;\">\n",
       "      <th></th>\n",
       "      <th>ATM ID</th>\n",
       "      <th>Category</th>\n",
       "      <th>Description</th>\n",
       "      <th>Title</th>\n",
       "      <th>_id</th>\n",
       "    </tr>\n",
       "  </thead>\n",
       "  <tbody>\n",
       "    <tr>\n",
       "      <th>466</th>\n",
       "      <td>2006/18</td>\n",
       "      <td>Education and Training Services</td>\n",
       "      <td>On 28 April 2006, the Minister for Employment ...</td>\n",
       "      <td>National Adviser Network Programme</td>\n",
       "      <td>6162aa1fe1b7f5c73e6fe1a2</td>\n",
       "    </tr>\n",
       "    <tr>\n",
       "      <th>494</th>\n",
       "      <td>003/0607DEH</td>\n",
       "      <td>Environmental Services</td>\n",
       "      <td>The Department of the Environment and Heritage...</td>\n",
       "      <td>Research Project: Mulga Harvesting in the Quil...</td>\n",
       "      <td>6162aa1fe1b7f5c73e6fe1be</td>\n",
       "    </tr>\n",
       "    <tr>\n",
       "      <th>1422</th>\n",
       "      <td>RFT 12.15</td>\n",
       "      <td>Education and Training Services</td>\n",
       "      <td>The Australian Taxation Office (ATO) requires ...</td>\n",
       "      <td>Provision of Contact Centre Management training</td>\n",
       "      <td>6162aa1fe1b7f5c73e6fe55e</td>\n",
       "    </tr>\n",
       "    <tr>\n",
       "      <th>1772</th>\n",
       "      <td>2015.01.10</td>\n",
       "      <td>Crop production and management and protection</td>\n",
       "      <td>Request for Tender for the provision of improv...</td>\n",
       "      <td>Improvement of On-Farm Grain Storage Managemen...</td>\n",
       "      <td>6162aa1fe1b7f5c73e6fe6bc</td>\n",
       "    </tr>\n",
       "    <tr>\n",
       "      <th>2113</th>\n",
       "      <td>PROC-9175513</td>\n",
       "      <td>Crop production and management and protection</td>\n",
       "      <td>GRDC invites tenders from suitable contractor(...</td>\n",
       "      <td>Manage risk &amp; opportunities to improve farm pr...</td>\n",
       "      <td>6162aa1fe1b7f5c73e6fe811</td>\n",
       "    </tr>\n",
       "    <tr>\n",
       "      <th>...</th>\n",
       "      <td>...</td>\n",
       "      <td>...</td>\n",
       "      <td>...</td>\n",
       "      <td>...</td>\n",
       "      <td>...</td>\n",
       "    </tr>\n",
       "    <tr>\n",
       "      <th>892</th>\n",
       "      <td>PRN18422</td>\n",
       "      <td>Educational and research structures</td>\n",
       "      <td>TRAINING AND RECRUITMENT BENCHMARKS FOR EMPLOY...</td>\n",
       "      <td>Training and Recruitment Benchmarks for Employ...</td>\n",
       "      <td>6162aa1fe1b7f5c73e6fe34c</td>\n",
       "    </tr>\n",
       "    <tr>\n",
       "      <th>910</th>\n",
       "      <td>EOI  PRN 16021</td>\n",
       "      <td>Educational and research structures</td>\n",
       "      <td>EOI for Stage 2 of the National Student Aptitu...</td>\n",
       "      <td>National Student Aptitude Test for Tertiary Ad...</td>\n",
       "      <td>6162aa1fe1b7f5c73e6fe35e</td>\n",
       "    </tr>\n",
       "    <tr>\n",
       "      <th>572</th>\n",
       "      <td>039/06</td>\n",
       "      <td>Disease prevention and control</td>\n",
       "      <td>A Managing Contractor is sought to establish a...</td>\n",
       "      <td>HIV/AIDS Asia Regional Program (HAARP) - Regio...</td>\n",
       "      <td>6162aa1fe1b7f5c73e6fe20c</td>\n",
       "    </tr>\n",
       "    <tr>\n",
       "      <th>1535</th>\n",
       "      <td>DoHA/210/1213</td>\n",
       "      <td>Disease prevention and control</td>\n",
       "      <td>Provision of the Department of Health and Agei...</td>\n",
       "      <td>Provision of the Department of Health and Agei...</td>\n",
       "      <td>6162aa1fe1b7f5c73e6fe5cf</td>\n",
       "    </tr>\n",
       "    <tr>\n",
       "      <th>2001</th>\n",
       "      <td>DFAT-127</td>\n",
       "      <td>Economics</td>\n",
       "      <td>Trade and Inclusive Economic Growth Facility ...</td>\n",
       "      <td>Trade and Inclusive Economic Growth Facility P...</td>\n",
       "      <td>6162aa1fe1b7f5c73e6fe7a1</td>\n",
       "    </tr>\n",
       "  </tbody>\n",
       "</table>\n",
       "<p>2696 rows × 5 columns</p>\n",
       "</div>"
      ],
      "text/plain": [
       "              ATM ID                                       Category  \\\n",
       "466          2006/18                Education and Training Services   \n",
       "494      003/0607DEH                         Environmental Services   \n",
       "1422       RFT 12.15                Education and Training Services   \n",
       "1772      2015.01.10  Crop production and management and protection   \n",
       "2113    PROC-9175513  Crop production and management and protection   \n",
       "...              ...                                            ...   \n",
       "892         PRN18422            Educational and research structures   \n",
       "910   EOI  PRN 16021            Educational and research structures   \n",
       "572           039/06                 Disease prevention and control   \n",
       "1535   DoHA/210/1213                 Disease prevention and control   \n",
       "2001        DFAT-127                                      Economics   \n",
       "\n",
       "                                            Description  \\\n",
       "466   On 28 April 2006, the Minister for Employment ...   \n",
       "494   The Department of the Environment and Heritage...   \n",
       "1422  The Australian Taxation Office (ATO) requires ...   \n",
       "1772  Request for Tender for the provision of improv...   \n",
       "2113  GRDC invites tenders from suitable contractor(...   \n",
       "...                                                 ...   \n",
       "892   TRAINING AND RECRUITMENT BENCHMARKS FOR EMPLOY...   \n",
       "910   EOI for Stage 2 of the National Student Aptitu...   \n",
       "572   A Managing Contractor is sought to establish a...   \n",
       "1535  Provision of the Department of Health and Agei...   \n",
       "2001   Trade and Inclusive Economic Growth Facility ...   \n",
       "\n",
       "                                                  Title  \\\n",
       "466                  National Adviser Network Programme   \n",
       "494   Research Project: Mulga Harvesting in the Quil...   \n",
       "1422    Provision of Contact Centre Management training   \n",
       "1772  Improvement of On-Farm Grain Storage Managemen...   \n",
       "2113  Manage risk & opportunities to improve farm pr...   \n",
       "...                                                 ...   \n",
       "892   Training and Recruitment Benchmarks for Employ...   \n",
       "910   National Student Aptitude Test for Tertiary Ad...   \n",
       "572   HIV/AIDS Asia Regional Program (HAARP) - Regio...   \n",
       "1535  Provision of the Department of Health and Agei...   \n",
       "2001  Trade and Inclusive Economic Growth Facility P...   \n",
       "\n",
       "                           _id  \n",
       "466   6162aa1fe1b7f5c73e6fe1a2  \n",
       "494   6162aa1fe1b7f5c73e6fe1be  \n",
       "1422  6162aa1fe1b7f5c73e6fe55e  \n",
       "1772  6162aa1fe1b7f5c73e6fe6bc  \n",
       "2113  6162aa1fe1b7f5c73e6fe811  \n",
       "...                        ...  \n",
       "892   6162aa1fe1b7f5c73e6fe34c  \n",
       "910   6162aa1fe1b7f5c73e6fe35e  \n",
       "572   6162aa1fe1b7f5c73e6fe20c  \n",
       "1535  6162aa1fe1b7f5c73e6fe5cf  \n",
       "2001  6162aa1fe1b7f5c73e6fe7a1  \n",
       "\n",
       "[2696 rows x 5 columns]"
      ]
     },
     "execution_count": 18,
     "metadata": {},
     "output_type": "execute_result"
    }
   ],
   "source": [
    "temp_df2"
   ]
  },
  {
   "cell_type": "code",
   "execution_count": 22,
   "id": "e3dfb06a",
   "metadata": {},
   "outputs": [
    {
     "data": {
      "text/plain": [
       "2697"
      ]
     },
     "execution_count": 22,
     "metadata": {},
     "output_type": "execute_result"
    }
   ],
   "source": [
    "len(relate_tenders_df)"
   ]
  },
  {
   "cell_type": "code",
   "execution_count": 33,
   "id": "3d4f6376",
   "metadata": {},
   "outputs": [
    {
     "name": "stderr",
     "output_type": "stream",
     "text": [
      "C:\\Users\\24966\\AppData\\Local\\Temp/ipykernel_13972/1502460402.py:9: UserWarning: This pattern has match groups. To actually get the groups, use str.extract.\n",
      "  res_df = tenders_df[(tenders_df['Description'].str.contains(t))|(tenders_df['Category'].str.contains(t))|(tenders_df['Category'].str.contains(t))].copy()\n"
     ]
    }
   ],
   "source": [
    "# directly match \n",
    "tag_list = list(tags_df['Tag'].unique())\n",
    "compare_list = [t.lower() for t in tag_list]\n",
    "#     for i in t.split(' '): compare_list.append(i)\n",
    "compare_list = set(compare_list)\n",
    "# compare_list\n",
    "temp_df = pd.DataFrame(columns = tenders_df.columns)\n",
    "for t in compare_list:\n",
    "    res_df = tenders_df[(tenders_df['Description'].str.contains(t))|(tenders_df['Category'].str.contains(t))|(tenders_df['Category'].str.contains(t))].copy()\n",
    "    temp_df = pd.concat((temp_df,res_df))\n",
    "    temp_df.drop_duplicates(subset=['ATM ID','Category'], keep='first', inplace=True)"
   ]
  },
  {
   "cell_type": "code",
   "execution_count": 20,
   "id": "ae179603",
   "metadata": {},
   "outputs": [
    {
     "ename": "NameError",
     "evalue": "name 'temp_df' is not defined",
     "output_type": "error",
     "traceback": [
      "\u001b[1;31m---------------------------------------------------------------------------\u001b[0m",
      "\u001b[1;31mNameError\u001b[0m                                 Traceback (most recent call last)",
      "\u001b[1;32m~\\AppData\\Local\\Temp/ipykernel_21120/59999957.py\u001b[0m in \u001b[0;36m<module>\u001b[1;34m\u001b[0m\n\u001b[1;32m----> 1\u001b[1;33m \u001b[0mremain_df\u001b[0m \u001b[1;33m=\u001b[0m \u001b[0mtenders_df\u001b[0m\u001b[1;33m[\u001b[0m\u001b[1;33m~\u001b[0m\u001b[0mtenders_df\u001b[0m\u001b[1;33m[\u001b[0m\u001b[1;34m'ATM ID'\u001b[0m\u001b[1;33m]\u001b[0m\u001b[1;33m.\u001b[0m\u001b[0misin\u001b[0m\u001b[1;33m(\u001b[0m\u001b[0mtemp_df\u001b[0m\u001b[1;33m[\u001b[0m\u001b[1;34m'ATM ID'\u001b[0m\u001b[1;33m]\u001b[0m\u001b[1;33m)\u001b[0m\u001b[1;33m]\u001b[0m\u001b[1;33m.\u001b[0m\u001b[0mcopy\u001b[0m\u001b[1;33m(\u001b[0m\u001b[1;33m)\u001b[0m\u001b[1;33m\u001b[0m\u001b[1;33m\u001b[0m\u001b[0m\n\u001b[0m",
      "\u001b[1;31mNameError\u001b[0m: name 'temp_df' is not defined"
     ]
    }
   ],
   "source": [
    "remain_df = tenders_df[~tenders_df['ATM ID'].isin(temp_df['ATM ID'])].copy()"
   ]
  },
  {
   "cell_type": "code",
   "execution_count": 36,
   "id": "95b77081",
   "metadata": {},
   "outputs": [
    {
     "data": {
      "text/plain": [
       "0.9568292050797882"
      ]
     },
     "execution_count": 36,
     "metadata": {},
     "output_type": "execute_result"
    }
   ],
   "source": [
    "len(temp_df)/len(tenders_df)"
   ]
  },
  {
   "cell_type": "code",
   "execution_count": 43,
   "id": "8fe58802",
   "metadata": {},
   "outputs": [],
   "source": [
    "cate_list = list(remain_df['Category'].unique())\n",
    "dic = {}\n",
    "for cate in cate_list:\n",
    "    dic[cate] = len(remain_df[remain_df['Category']==cate])\n",
    "dic = sorted(dic.items(),key=lambda x:x[1],reverse =True)"
   ]
  },
  {
   "cell_type": "code",
   "execution_count": 44,
   "id": "4d7e6632",
   "metadata": {},
   "outputs": [
    {
     "data": {
      "image/png": "[encoded data removed]",
      "text/plain": [
       "<Figure size 432x288 with 1 Axes>"
      ]
     },
     "metadata": {
      "needs_background": "light"
     },
     "output_type": "display_data"
    }
   ],
   "source": [
    "Y_axis = np.arange(10)\n",
    "x = [i[1] for i in dic[:10][::-1]]\n",
    "proportion = plt.barh(Y_axis,x, 0.5, label='number', color='deepskyblue', alpha=1)\n",
    "bar_number_h(proportion, x, x)\n",
    "\n",
    "plt.yticks(Y_axis, [i[0] for i in dic[:10]][::-1])\n",
    "plt.ylabel(\"Category name\")\n",
    "plt.xlabel(\"Number of category\")\n",
    "# plt.legend()\n",
    "plt.show()"
   ]
  },
  {
   "cell_type": "code",
   "execution_count": null,
   "id": "a0048798",
   "metadata": {},
   "outputs": [],
   "source": []
  }
 ],
 "metadata": {
  "kernelspec": {
   "display_name": "Python 3 (ipykernel)",
   "language": "python",
   "name": "python3"
  },
  "language_info": {
   "codemirror_mode": {
    "name": "ipython",
    "version": 3
   },
   "file_extension": ".py",
   "mimetype": "text/x-python",
   "name": "python",
   "nbconvert_exporter": "python",
   "pygments_lexer": "ipython3",
   "version": "3.9.0"
  }
 },
 "nbformat": 4,
 "nbformat_minor": 5
}
