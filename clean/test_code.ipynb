{
 "cells": [
  {
   "cell_type": "code",
   "execution_count": 10,
   "id": "aecf5621",
   "metadata": {},
   "outputs": [],
   "source": [
    "class a():\n",
    "    def tt(self, num):\n",
    "        print(num, 'haha')\n",
    "    def call(self, func = tt):\n",
    "        func(self, 1)"
   ]
  },
  {
   "cell_type": "code",
   "execution_count": 11,
   "id": "88e4b685",
   "metadata": {},
   "outputs": [
    {
     "name": "stdout",
     "output_type": "stream",
     "text": [
      "1 haha\n"
     ]
    }
   ],
   "source": [
    "# a.haha(1)\n",
    "aa = a()\n",
    "aa.call()"
   ]
  },
  {
   "cell_type": "code",
   "execution_count": null,
   "id": "dc818739",
   "metadata": {},
   "outputs": [],
   "source": []
  }
 ],
 "metadata": {
  "kernelspec": {
   "display_name": "Python 3 (ipykernel)",
   "language": "python",
   "name": "python3"
  },
  "language_info": {
   "codemirror_mode": {
    "name": "ipython",
    "version": 3
   },
   "file_extension": ".py",
   "mimetype": "text/x-python",
   "name": "python",
   "nbconvert_exporter": "python",
   "pygments_lexer": "ipython3",
   "version": "3.9.0"
  }
 },
 "nbformat": 4,
 "nbformat_minor": 5
}
