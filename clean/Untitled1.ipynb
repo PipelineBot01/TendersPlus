{
 "cells": [
  {
   "cell_type": "code",
   "execution_count": 1,
   "id": "fdff9970",
   "metadata": {},
   "outputs": [],
   "source": [
    "import pandas as pd"
   ]
  },
  {
   "cell_type": "code",
   "execution_count": 2,
   "id": "189bb6bd",
   "metadata": {},
   "outputs": [],
   "source": [
    "input_df = pd.read_csv('dataset/tags_of_staffs.csv')"
   ]
  },
  {
   "cell_type": "code",
   "execution_count": 3,
   "id": "c049c055",
   "metadata": {},
   "outputs": [
    {
     "data": {
      "text/html": [
       "<div>\n",
       "<style scoped>\n",
       "    .dataframe tbody tr th:only-of-type {\n",
       "        vertical-align: middle;\n",
       "    }\n",
       "\n",
       "    .dataframe tbody tr th {\n",
       "        vertical-align: top;\n",
       "    }\n",
       "\n",
       "    .dataframe thead th {\n",
       "        text-align: right;\n",
       "    }\n",
       "</style>\n",
       "<table border=\"1\" class=\"dataframe\">\n",
       "  <thead>\n",
       "    <tr style=\"text-align: right;\">\n",
       "      <th></th>\n",
       "      <th>Name</th>\n",
       "      <th>Staff ID</th>\n",
       "      <th>Tags</th>\n",
       "      <th>Weight</th>\n",
       "      <th>_id</th>\n",
       "      <th>tagsType</th>\n",
       "    </tr>\n",
       "  </thead>\n",
       "  <tbody>\n",
       "    <tr>\n",
       "      <th>0</th>\n",
       "      <td>Danish Ahmad</td>\n",
       "      <td>Canberra00000</td>\n",
       "      <td>India</td>\n",
       "      <td>39%</td>\n",
       "      <td>615af13a6c298e0c397ad315</td>\n",
       "      <td>staffTags</td>\n",
       "    </tr>\n",
       "    <tr>\n",
       "      <th>1</th>\n",
       "      <td>Danish Ahmad</td>\n",
       "      <td>Canberra00000</td>\n",
       "      <td>Self-Help Groups</td>\n",
       "      <td>81%</td>\n",
       "      <td>615af13a6c298e0c397ad316</td>\n",
       "      <td>staffTags</td>\n",
       "    </tr>\n",
       "    <tr>\n",
       "      <th>2</th>\n",
       "      <td>Danish Ahmad</td>\n",
       "      <td>Canberra00000</td>\n",
       "      <td>Health Literacy</td>\n",
       "      <td>41%</td>\n",
       "      <td>615af13a6c298e0c397ad317</td>\n",
       "      <td>staffTags</td>\n",
       "    </tr>\n",
       "    <tr>\n",
       "      <th>3</th>\n",
       "      <td>Danish Ahmad</td>\n",
       "      <td>Canberra00000</td>\n",
       "      <td>Infant Health</td>\n",
       "      <td>35%</td>\n",
       "      <td>615af13a6c298e0c397ad318</td>\n",
       "      <td>staffTags</td>\n",
       "    </tr>\n",
       "    <tr>\n",
       "      <th>4</th>\n",
       "      <td>Danish Ahmad</td>\n",
       "      <td>Canberra00000</td>\n",
       "      <td>Social Networking</td>\n",
       "      <td>32%</td>\n",
       "      <td>615af13a6c298e0c397ad319</td>\n",
       "      <td>staffTags</td>\n",
       "    </tr>\n",
       "    <tr>\n",
       "      <th>...</th>\n",
       "      <td>...</td>\n",
       "      <td>...</td>\n",
       "      <td>...</td>\n",
       "      <td>...</td>\n",
       "      <td>...</td>\n",
       "      <td>...</td>\n",
       "    </tr>\n",
       "    <tr>\n",
       "      <th>57013</th>\n",
       "      <td>test</td>\n",
       "      <td>ANU00000</td>\n",
       "      <td>Agent Systems</td>\n",
       "      <td>100%</td>\n",
       "      <td>615af504c493b05d41ec6bac</td>\n",
       "      <td>ProjectTags</td>\n",
       "    </tr>\n",
       "    <tr>\n",
       "      <th>57014</th>\n",
       "      <td>test</td>\n",
       "      <td>ANU00000</td>\n",
       "      <td>Mathematical programming</td>\n",
       "      <td>64%</td>\n",
       "      <td>615af504c493b05d41ec6bad</td>\n",
       "      <td>ProjectTags</td>\n",
       "    </tr>\n",
       "    <tr>\n",
       "      <th>57015</th>\n",
       "      <td>test</td>\n",
       "      <td>ANU00000</td>\n",
       "      <td>Mathematical Programming</td>\n",
       "      <td>57%</td>\n",
       "      <td>615af504c493b05d41ec6bae</td>\n",
       "      <td>ProjectTags</td>\n",
       "    </tr>\n",
       "    <tr>\n",
       "      <th>57016</th>\n",
       "      <td>test</td>\n",
       "      <td>ANU00000</td>\n",
       "      <td>Evolutionary Computation</td>\n",
       "      <td>19%</td>\n",
       "      <td>615af504c493b05d41ec6baf</td>\n",
       "      <td>ProjectTags</td>\n",
       "    </tr>\n",
       "    <tr>\n",
       "      <th>57017</th>\n",
       "      <td>test</td>\n",
       "      <td>ANU00000</td>\n",
       "      <td>Multi-agent Systems</td>\n",
       "      <td>18%</td>\n",
       "      <td>615af504c493b05d41ec6bb0</td>\n",
       "      <td>ProjectTags</td>\n",
       "    </tr>\n",
       "  </tbody>\n",
       "</table>\n",
       "<p>57018 rows × 6 columns</p>\n",
       "</div>"
      ],
      "text/plain": [
       "               Name       Staff ID                      Tags Weight  \\\n",
       "0      Danish Ahmad  Canberra00000                     India    39%   \n",
       "1      Danish Ahmad  Canberra00000          Self-Help Groups    81%   \n",
       "2      Danish Ahmad  Canberra00000           Health Literacy    41%   \n",
       "3      Danish Ahmad  Canberra00000             Infant Health    35%   \n",
       "4      Danish Ahmad  Canberra00000         Social Networking    32%   \n",
       "...             ...            ...                       ...    ...   \n",
       "57013          test       ANU00000             Agent Systems   100%   \n",
       "57014          test       ANU00000  Mathematical programming    64%   \n",
       "57015          test       ANU00000  Mathematical Programming    57%   \n",
       "57016          test       ANU00000  Evolutionary Computation    19%   \n",
       "57017          test       ANU00000       Multi-agent Systems    18%   \n",
       "\n",
       "                            _id     tagsType  \n",
       "0      615af13a6c298e0c397ad315    staffTags  \n",
       "1      615af13a6c298e0c397ad316    staffTags  \n",
       "2      615af13a6c298e0c397ad317    staffTags  \n",
       "3      615af13a6c298e0c397ad318    staffTags  \n",
       "4      615af13a6c298e0c397ad319    staffTags  \n",
       "...                         ...          ...  \n",
       "57013  615af504c493b05d41ec6bac  ProjectTags  \n",
       "57014  615af504c493b05d41ec6bad  ProjectTags  \n",
       "57015  615af504c493b05d41ec6bae  ProjectTags  \n",
       "57016  615af504c493b05d41ec6baf  ProjectTags  \n",
       "57017  615af504c493b05d41ec6bb0  ProjectTags  \n",
       "\n",
       "[57018 rows x 6 columns]"
      ]
     },
     "execution_count": 3,
     "metadata": {},
     "output_type": "execute_result"
    }
   ],
   "source": [
    "input_df"
   ]
  },
  {
   "cell_type": "code",
   "execution_count": 4,
   "id": "7a3a2065",
   "metadata": {},
   "outputs": [
    {
     "data": {
      "text/html": [
       "<div>\n",
       "<style scoped>\n",
       "    .dataframe tbody tr th:only-of-type {\n",
       "        vertical-align: middle;\n",
       "    }\n",
       "\n",
       "    .dataframe tbody tr th {\n",
       "        vertical-align: top;\n",
       "    }\n",
       "\n",
       "    .dataframe thead th {\n",
       "        text-align: right;\n",
       "    }\n",
       "</style>\n",
       "<table border=\"1\" class=\"dataframe\">\n",
       "  <thead>\n",
       "    <tr style=\"text-align: right;\">\n",
       "      <th></th>\n",
       "      <th>Name</th>\n",
       "      <th>Staff ID</th>\n",
       "      <th>Tags</th>\n",
       "      <th>Weight</th>\n",
       "      <th>_id</th>\n",
       "      <th>tagsType</th>\n",
       "    </tr>\n",
       "  </thead>\n",
       "  <tbody>\n",
       "    <tr>\n",
       "      <th>56901</th>\n",
       "      <td>test</td>\n",
       "      <td>ANU00000</td>\n",
       "      <td>Memetic Algorithm</td>\n",
       "      <td>100%</td>\n",
       "      <td>615af504c493b05d41ec6b3c</td>\n",
       "      <td>staffTags</td>\n",
       "    </tr>\n",
       "    <tr>\n",
       "      <th>56902</th>\n",
       "      <td>test</td>\n",
       "      <td>ANU00000</td>\n",
       "      <td>Equality Constraints</td>\n",
       "      <td>50%</td>\n",
       "      <td>615af504c493b05d41ec6b3d</td>\n",
       "      <td>staffTags</td>\n",
       "    </tr>\n",
       "    <tr>\n",
       "      <th>56903</th>\n",
       "      <td>test</td>\n",
       "      <td>ANU00000</td>\n",
       "      <td>Healthcare</td>\n",
       "      <td>37%</td>\n",
       "      <td>615af504c493b05d41ec6b3e</td>\n",
       "      <td>staffTags</td>\n",
       "    </tr>\n",
       "    <tr>\n",
       "      <th>56904</th>\n",
       "      <td>test</td>\n",
       "      <td>ANU00000</td>\n",
       "      <td>Benchmark</td>\n",
       "      <td>32%</td>\n",
       "      <td>615af504c493b05d41ec6b3f</td>\n",
       "      <td>staffTags</td>\n",
       "    </tr>\n",
       "    <tr>\n",
       "      <th>56905</th>\n",
       "      <td>test</td>\n",
       "      <td>ANU00000</td>\n",
       "      <td>Agent Systems</td>\n",
       "      <td>27%</td>\n",
       "      <td>615af504c493b05d41ec6b40</td>\n",
       "      <td>staffTags</td>\n",
       "    </tr>\n",
       "    <tr>\n",
       "      <th>...</th>\n",
       "      <td>...</td>\n",
       "      <td>...</td>\n",
       "      <td>...</td>\n",
       "      <td>...</td>\n",
       "      <td>...</td>\n",
       "      <td>...</td>\n",
       "    </tr>\n",
       "    <tr>\n",
       "      <th>57013</th>\n",
       "      <td>test</td>\n",
       "      <td>ANU00000</td>\n",
       "      <td>Agent Systems</td>\n",
       "      <td>100%</td>\n",
       "      <td>615af504c493b05d41ec6bac</td>\n",
       "      <td>ProjectTags</td>\n",
       "    </tr>\n",
       "    <tr>\n",
       "      <th>57014</th>\n",
       "      <td>test</td>\n",
       "      <td>ANU00000</td>\n",
       "      <td>Mathematical programming</td>\n",
       "      <td>64%</td>\n",
       "      <td>615af504c493b05d41ec6bad</td>\n",
       "      <td>ProjectTags</td>\n",
       "    </tr>\n",
       "    <tr>\n",
       "      <th>57015</th>\n",
       "      <td>test</td>\n",
       "      <td>ANU00000</td>\n",
       "      <td>Mathematical Programming</td>\n",
       "      <td>57%</td>\n",
       "      <td>615af504c493b05d41ec6bae</td>\n",
       "      <td>ProjectTags</td>\n",
       "    </tr>\n",
       "    <tr>\n",
       "      <th>57016</th>\n",
       "      <td>test</td>\n",
       "      <td>ANU00000</td>\n",
       "      <td>Evolutionary Computation</td>\n",
       "      <td>19%</td>\n",
       "      <td>615af504c493b05d41ec6baf</td>\n",
       "      <td>ProjectTags</td>\n",
       "    </tr>\n",
       "    <tr>\n",
       "      <th>57017</th>\n",
       "      <td>test</td>\n",
       "      <td>ANU00000</td>\n",
       "      <td>Multi-agent Systems</td>\n",
       "      <td>18%</td>\n",
       "      <td>615af504c493b05d41ec6bb0</td>\n",
       "      <td>ProjectTags</td>\n",
       "    </tr>\n",
       "  </tbody>\n",
       "</table>\n",
       "<p>117 rows × 6 columns</p>\n",
       "</div>"
      ],
      "text/plain": [
       "       Name  Staff ID                      Tags Weight  \\\n",
       "56901  test  ANU00000         Memetic Algorithm   100%   \n",
       "56902  test  ANU00000      Equality Constraints    50%   \n",
       "56903  test  ANU00000                Healthcare    37%   \n",
       "56904  test  ANU00000                 Benchmark    32%   \n",
       "56905  test  ANU00000             Agent Systems    27%   \n",
       "...     ...       ...                       ...    ...   \n",
       "57013  test  ANU00000             Agent Systems   100%   \n",
       "57014  test  ANU00000  Mathematical programming    64%   \n",
       "57015  test  ANU00000  Mathematical Programming    57%   \n",
       "57016  test  ANU00000  Evolutionary Computation    19%   \n",
       "57017  test  ANU00000       Multi-agent Systems    18%   \n",
       "\n",
       "                            _id     tagsType  \n",
       "56901  615af504c493b05d41ec6b3c    staffTags  \n",
       "56902  615af504c493b05d41ec6b3d    staffTags  \n",
       "56903  615af504c493b05d41ec6b3e    staffTags  \n",
       "56904  615af504c493b05d41ec6b3f    staffTags  \n",
       "56905  615af504c493b05d41ec6b40    staffTags  \n",
       "...                         ...          ...  \n",
       "57013  615af504c493b05d41ec6bac  ProjectTags  \n",
       "57014  615af504c493b05d41ec6bad  ProjectTags  \n",
       "57015  615af504c493b05d41ec6bae  ProjectTags  \n",
       "57016  615af504c493b05d41ec6baf  ProjectTags  \n",
       "57017  615af504c493b05d41ec6bb0  ProjectTags  \n",
       "\n",
       "[117 rows x 6 columns]"
      ]
     },
     "execution_count": 4,
     "metadata": {},
     "output_type": "execute_result"
    }
   ],
   "source": [
    "input_df[input_df['Name']=='test']"
   ]
  },
  {
   "cell_type": "code",
   "execution_count": 5,
   "id": "f4a63223",
   "metadata": {},
   "outputs": [],
   "source": [
    "tmp_df = input_df.drop(input_df[input_df['Name']=='test'].index)\n",
    "weight = tmp_df['Weight'].str.extract(r'(\\d+)%')\n",
    "assert weight[weight.isna().all(axis=1)].empty, 'contains incorrect format'\n",
    "tmp_df['Weight'] = weight.astype('int')/100"
   ]
  },
  {
   "cell_type": "code",
   "execution_count": 7,
   "id": "67f934ba",
   "metadata": {},
   "outputs": [],
   "source": [
    "tmp_df.to_csv('tags_of_staffs.csv', index=0)"
   ]
  },
  {
   "cell_type": "code",
   "execution_count": 95,
   "id": "29990ac7",
   "metadata": {},
   "outputs": [],
   "source": [
    "weight_df = tmp_df.groupby('Tags').agg({'Weight':sum,'Staff ID':len}).rename(columns={'Weight':'Weight_sum', 'Staff ID':'Staff_cnt'}).reset_index().sort_values('Weight_sum',ascending=False)"
   ]
  },
  {
   "cell_type": "code",
   "execution_count": 96,
   "id": "05266443",
   "metadata": {},
   "outputs": [],
   "source": [
    "member_cnt = input_df['Staff ID'].nunique()"
   ]
  },
  {
   "cell_type": "code",
   "execution_count": 97,
   "id": "161fb252",
   "metadata": {},
   "outputs": [],
   "source": [
    "weight_df['Weight_avg_all'] = weight_df['Weight_sum']/member_cnt"
   ]
  },
  {
   "cell_type": "code",
   "execution_count": 98,
   "id": "7857371e",
   "metadata": {},
   "outputs": [],
   "source": [
    "weight_df['Weight_avg_ind'] = weight_df['Weight_sum']/weight_df['Staff_cnt']"
   ]
  },
  {
   "cell_type": "code",
   "execution_count": 99,
   "id": "ab6ebcde",
   "metadata": {},
   "outputs": [],
   "source": [
    "weight_df.groupby('Staff_cnt').agg({'Tags':len}).reindex().to_csv('cnt_distrubution.csv')"
   ]
  },
  {
   "cell_type": "code",
   "execution_count": 110,
   "id": "5c161c06",
   "metadata": {},
   "outputs": [
    {
     "data": {
      "text/plain": [
       "0.43506128130646576"
      ]
     },
     "execution_count": 110,
     "metadata": {},
     "output_type": "execute_result"
    }
   ],
   "source": [
    "# weight_df[weight_df['Staff_cnt']>6]['Weight_avg_ind'].mean()"
   ]
  },
  {
   "cell_type": "code",
   "execution_count": 147,
   "id": "9d406f7d",
   "metadata": {},
   "outputs": [
    {
     "data": {
      "text/html": [
       "<div>\n",
       "<style scoped>\n",
       "    .dataframe tbody tr th:only-of-type {\n",
       "        vertical-align: middle;\n",
       "    }\n",
       "\n",
       "    .dataframe tbody tr th {\n",
       "        vertical-align: top;\n",
       "    }\n",
       "\n",
       "    .dataframe thead th {\n",
       "        text-align: right;\n",
       "    }\n",
       "</style>\n",
       "<table border=\"1\" class=\"dataframe\">\n",
       "  <thead>\n",
       "    <tr style=\"text-align: right;\">\n",
       "      <th></th>\n",
       "      <th>Tags</th>\n",
       "      <th>Weight_sum</th>\n",
       "      <th>Staff_cnt</th>\n",
       "      <th>Weight_avg_all</th>\n",
       "      <th>Weight_avg_ind</th>\n",
       "    </tr>\n",
       "  </thead>\n",
       "  <tbody>\n",
       "    <tr>\n",
       "      <th>8574</th>\n",
       "      <td>Systematic Reviews</td>\n",
       "      <td>79.78</td>\n",
       "      <td>159</td>\n",
       "      <td>0.213887</td>\n",
       "      <td>0.501761</td>\n",
       "    </tr>\n",
       "    <tr>\n",
       "      <th>8414</th>\n",
       "      <td>Students</td>\n",
       "      <td>68.46</td>\n",
       "      <td>142</td>\n",
       "      <td>0.183539</td>\n",
       "      <td>0.482113</td>\n",
       "    </tr>\n",
       "    <tr>\n",
       "      <th>3803</th>\n",
       "      <td>Health</td>\n",
       "      <td>67.60</td>\n",
       "      <td>199</td>\n",
       "      <td>0.181233</td>\n",
       "      <td>0.339698</td>\n",
       "    </tr>\n",
       "    <tr>\n",
       "      <th>3012</th>\n",
       "      <td>Exercise</td>\n",
       "      <td>54.75</td>\n",
       "      <td>106</td>\n",
       "      <td>0.146783</td>\n",
       "      <td>0.516509</td>\n",
       "    </tr>\n",
       "    <tr>\n",
       "      <th>2620</th>\n",
       "      <td>Education</td>\n",
       "      <td>53.94</td>\n",
       "      <td>145</td>\n",
       "      <td>0.144611</td>\n",
       "      <td>0.372000</td>\n",
       "    </tr>\n",
       "    <tr>\n",
       "      <th>...</th>\n",
       "      <td>...</td>\n",
       "      <td>...</td>\n",
       "      <td>...</td>\n",
       "      <td>...</td>\n",
       "      <td>...</td>\n",
       "    </tr>\n",
       "    <tr>\n",
       "      <th>1014</th>\n",
       "      <td>Byproducts</td>\n",
       "      <td>0.05</td>\n",
       "      <td>1</td>\n",
       "      <td>0.000134</td>\n",
       "      <td>0.050000</td>\n",
       "    </tr>\n",
       "    <tr>\n",
       "      <th>10918</th>\n",
       "      <td>electric potential</td>\n",
       "      <td>0.05</td>\n",
       "      <td>1</td>\n",
       "      <td>0.000134</td>\n",
       "      <td>0.050000</td>\n",
       "    </tr>\n",
       "    <tr>\n",
       "      <th>2346</th>\n",
       "      <td>Diminutives</td>\n",
       "      <td>0.05</td>\n",
       "      <td>1</td>\n",
       "      <td>0.000134</td>\n",
       "      <td>0.050000</td>\n",
       "    </tr>\n",
       "    <tr>\n",
       "      <th>5569</th>\n",
       "      <td>Modern museum</td>\n",
       "      <td>0.05</td>\n",
       "      <td>1</td>\n",
       "      <td>0.000134</td>\n",
       "      <td>0.050000</td>\n",
       "    </tr>\n",
       "    <tr>\n",
       "      <th>4861</th>\n",
       "      <td>League</td>\n",
       "      <td>0.05</td>\n",
       "      <td>1</td>\n",
       "      <td>0.000134</td>\n",
       "      <td>0.050000</td>\n",
       "    </tr>\n",
       "  </tbody>\n",
       "</table>\n",
       "<p>14616 rows × 5 columns</p>\n",
       "</div>"
      ],
      "text/plain": [
       "                     Tags  Weight_sum  Staff_cnt  Weight_avg_all  \\\n",
       "8574   Systematic Reviews       79.78        159        0.213887   \n",
       "8414             Students       68.46        142        0.183539   \n",
       "3803               Health       67.60        199        0.181233   \n",
       "3012             Exercise       54.75        106        0.146783   \n",
       "2620            Education       53.94        145        0.144611   \n",
       "...                   ...         ...        ...             ...   \n",
       "1014           Byproducts        0.05          1        0.000134   \n",
       "10918  electric potential        0.05          1        0.000134   \n",
       "2346          Diminutives        0.05          1        0.000134   \n",
       "5569        Modern museum        0.05          1        0.000134   \n",
       "4861               League        0.05          1        0.000134   \n",
       "\n",
       "       Weight_avg_ind  \n",
       "8574         0.501761  \n",
       "8414         0.482113  \n",
       "3803         0.339698  \n",
       "3012         0.516509  \n",
       "2620         0.372000  \n",
       "...               ...  \n",
       "1014         0.050000  \n",
       "10918        0.050000  \n",
       "2346         0.050000  \n",
       "5569         0.050000  \n",
       "4861         0.050000  \n",
       "\n",
       "[14616 rows x 5 columns]"
      ]
     },
     "execution_count": 147,
     "metadata": {},
     "output_type": "execute_result"
    }
   ],
   "source": [
    "weight_df"
   ]
  },
  {
   "cell_type": "code",
   "execution_count": 148,
   "id": "cf6a1947",
   "metadata": {},
   "outputs": [],
   "source": [
    "weight_df.to_csv('dataset/staff_agg_weight.csv', index=0)"
   ]
  },
  {
   "cell_type": "code",
   "execution_count": 113,
   "id": "ce869a79",
   "metadata": {},
   "outputs": [],
   "source": [
    "task_df = weight_df[weight_df['Staff_cnt']>4]['Tags']"
   ]
  },
  {
   "cell_type": "code",
   "execution_count": 115,
   "id": "03af84ad",
   "metadata": {},
   "outputs": [
    {
     "data": {
      "text/plain": [
       "8574     Systematic Reviews\n",
       "8414               Students\n",
       "3803                 Health\n",
       "3012               Exercise\n",
       "2620              Education\n",
       "                ...        \n",
       "13433            regression\n",
       "13861      social economics\n",
       "9270                    WHO\n",
       "12479              ministry\n",
       "9535      academic exchange\n",
       "Name: Tags, Length: 2925, dtype: object"
      ]
     },
     "execution_count": 115,
     "metadata": {},
     "output_type": "execute_result"
    }
   ],
   "source": [
    "task_df"
   ]
  },
  {
   "cell_type": "code",
   "execution_count": 119,
   "id": "78b1a68e",
   "metadata": {},
   "outputs": [],
   "source": [
    "sampling_df = pd.DataFrame(task_df.sample(n=38))"
   ]
  },
  {
   "cell_type": "code",
   "execution_count": 124,
   "id": "0091d6d3",
   "metadata": {},
   "outputs": [],
   "source": [
    "remain_df = task_df.drop(sampling_df.index)"
   ]
  },
  {
   "cell_type": "code",
   "execution_count": 133,
   "id": "8249e49a",
   "metadata": {},
   "outputs": [],
   "source": [
    "remain_df = pd.DataFrame(remain_df.sample(frac=1)).reset_index().drop('index',axis=1)"
   ]
  },
  {
   "cell_type": "code",
   "execution_count": 134,
   "id": "bd7bcac8",
   "metadata": {},
   "outputs": [],
   "source": [
    "length = len(remain_df)"
   ]
  },
  {
   "cell_type": "code",
   "execution_count": 135,
   "id": "7d0d92ee",
   "metadata": {},
   "outputs": [],
   "source": [
    "task1_df = remain_df.iloc[:length//3]\n",
    "task2_df = remain_df.iloc[length//3:length//3*2]\n",
    "task3_df = remain_df.iloc[length//3*2:]"
   ]
  },
  {
   "cell_type": "code",
   "execution_count": 143,
   "id": "f216aa20",
   "metadata": {},
   "outputs": [],
   "source": [
    "task1_df = task1_df.append(sampling_df).sample(frac=1)"
   ]
  },
  {
   "cell_type": "code",
   "execution_count": 141,
   "id": "9cc94e1c",
   "metadata": {},
   "outputs": [],
   "source": [
    "task2_df = task2_df.append(sampling_df).sample(frac=1)"
   ]
  },
  {
   "cell_type": "code",
   "execution_count": 138,
   "id": "1389e780",
   "metadata": {},
   "outputs": [],
   "source": [
    "task3_df = task3_df.append(sampling_df).sample(frac=1)"
   ]
  },
  {
   "cell_type": "code",
   "execution_count": 144,
   "id": "99853707",
   "metadata": {},
   "outputs": [],
   "source": [
    "task_df.to_csv('dataset/task_all.csv', index=0)"
   ]
  },
  {
   "cell_type": "code",
   "execution_count": 145,
   "id": "210c997c",
   "metadata": {},
   "outputs": [],
   "source": [
    "sampling_df.to_csv('dataset/sample.csv', index=0)"
   ]
  },
  {
   "cell_type": "code",
   "execution_count": 146,
   "id": "6bcaf9e3",
   "metadata": {},
   "outputs": [],
   "source": [
    "task1_df.to_csv('dataset/task_1.csv', index=0)\n",
    "task2_df.to_csv('dataset/task_2.csv', index=0)\n",
    "task3_df.to_csv('dataset/task_3.csv', index=0)"
   ]
  },
  {
   "cell_type": "code",
   "execution_count": null,
   "id": "42c02890",
   "metadata": {},
   "outputs": [],
   "source": [
    "task_df.to_csv('dataset/task.csv', index=0)"
   ]
  }
 ],
 "metadata": {
  "kernelspec": {
   "display_name": "Python 3 (ipykernel)",
   "language": "python",
   "name": "python3"
  },
  "language_info": {
   "codemirror_mode": {
    "name": "ipython",
    "version": 3
   },
   "file_extension": ".py",
   "mimetype": "text/x-python",
   "name": "python",
   "nbconvert_exporter": "python",
   "pygments_lexer": "ipython3",
   "version": "3.9.0"
  }
 },
 "nbformat": 4,
 "nbformat_minor": 5
}
