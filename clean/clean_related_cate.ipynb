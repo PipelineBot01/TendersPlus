{
 "cells": [
  {
   "cell_type": "code",
   "execution_count": 14,
   "id": "6ece7e45",
   "metadata": {},
   "outputs": [],
   "source": [
    "import pandas as pd\n",
    "import numpy as np\n",
    "import matplotlib.pyplot as plt\n",
    "import random"
   ]
  },
  {
   "cell_type": "code",
   "execution_count": 15,
   "id": "9f1a1a9e",
   "metadata": {},
   "outputs": [],
   "source": [
    "cate_df = pd.read_csv('dataset/marked_category.csv')\n",
    "tenders_df = pd.read_csv(\"dataset/tenders_Original.csv\")"
   ]
  },
  {
   "cell_type": "code",
   "execution_count": 19,
   "id": "051a8b3a",
   "metadata": {},
   "outputs": [],
   "source": [
    "cate_df.rename(columns={'Is related to researchers (yes=1, no=0, unknown=2)':'isRelated'},inplace=True)"
   ]
  },
  {
   "cell_type": "code",
   "execution_count": 21,
   "id": "496c997f",
   "metadata": {},
   "outputs": [],
   "source": [
    "merge_df = tenders_df.merge(cate_df,on = 'Category',how='left')"
   ]
  },
  {
   "cell_type": "code",
   "execution_count": 23,
   "id": "d82500f2",
   "metadata": {},
   "outputs": [],
   "source": [
    "merge_df = merge_df[merge_df['isRelated']==1]"
   ]
  },
  {
   "cell_type": "code",
   "execution_count": 24,
   "id": "23cb11c7",
   "metadata": {},
   "outputs": [],
   "source": [
    "merge_df.to_csv('dataset/relate_research.csv')"
   ]
  },
  {
   "cell_type": "code",
   "execution_count": null,
   "id": "1659ff08",
   "metadata": {},
   "outputs": [],
   "source": []
  }
 ],
 "metadata": {
  "kernelspec": {
   "display_name": "Python 3 (ipykernel)",
   "language": "python",
   "name": "python3"
  },
  "language_info": {
   "codemirror_mode": {
    "name": "ipython",
    "version": 3
   },
   "file_extension": ".py",
   "mimetype": "text/x-python",
   "name": "python",
   "nbconvert_exporter": "python",
   "pygments_lexer": "ipython3",
   "version": "3.9.0"
  }
 },
 "nbformat": 4,
 "nbformat_minor": 5
}
