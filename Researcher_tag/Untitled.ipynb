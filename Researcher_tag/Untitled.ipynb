{
 "cells": [
  {
   "cell_type": "code",
   "execution_count": 1,
   "id": "2da21b87",
   "metadata": {},
   "outputs": [],
   "source": [
    "import pandas as pd, numpy as np"
   ]
  },
  {
   "cell_type": "code",
   "execution_count": 2,
   "id": "92ad34b6",
   "metadata": {},
   "outputs": [],
   "source": [
    "task2_df = pd.read_excel('task2.xlsx')\n",
    "mapping_df = pd.read_csv('mapping.csv' )"
   ]
  },
  {
   "cell_type": "code",
   "execution_count": 3,
   "id": "5fb7e0d0",
   "metadata": {},
   "outputs": [],
   "source": [
    "mapping_df['Australian standard'] = mapping_df['Australian standard'].str.split(',')"
   ]
  },
  {
   "cell_type": "code",
   "execution_count": 4,
   "id": "f90c27fc",
   "metadata": {},
   "outputs": [],
   "source": [
    "mapping_df = mapping_df.explode('Australian standard')"
   ]
  },
  {
   "cell_type": "code",
   "execution_count": 5,
   "id": "aed2ad2b",
   "metadata": {},
   "outputs": [],
   "source": [
    "sg_1 = task2_df[['Tags','result','Unnamed: 2']].rename(columns={'Tags':'tag', 'result':'old_class','Unnamed: 2':'old_2'})"
   ]
  },
  {
   "cell_type": "code",
   "execution_count": 6,
   "id": "6a05482a",
   "metadata": {},
   "outputs": [],
   "source": [
    "sg_2 =task2_df[['Tags.1', 'result.1']].rename(columns={'Tags.1':'tag', 'result.1':'old_class'})"
   ]
  },
  {
   "cell_type": "code",
   "execution_count": 7,
   "id": "9374f938",
   "metadata": {},
   "outputs": [],
   "source": [
    "sg_3 =task2_df[['TAGS(lowercase, distinct)', 'category-cn']].rename(columns={'TAGS(lowercase, distinct)':'tag', 'category-cn':'old_class'})"
   ]
  },
  {
   "cell_type": "code",
   "execution_count": 8,
   "id": "a796d8dd",
   "metadata": {},
   "outputs": [],
   "source": [
    "final_df = sg_1.append(sg_2).append(sg_3)"
   ]
  },
  {
   "cell_type": "code",
   "execution_count": 9,
   "id": "37d00e8c",
   "metadata": {},
   "outputs": [],
   "source": [
    "final_df = final_df[final_df['tag'].notna()]"
   ]
  },
  {
   "cell_type": "code",
   "execution_count": 10,
   "id": "99c20ca4",
   "metadata": {},
   "outputs": [
    {
     "data": {
      "text/html": [
       "<div>\n",
       "<style scoped>\n",
       "    .dataframe tbody tr th:only-of-type {\n",
       "        vertical-align: middle;\n",
       "    }\n",
       "\n",
       "    .dataframe tbody tr th {\n",
       "        vertical-align: top;\n",
       "    }\n",
       "\n",
       "    .dataframe thead th {\n",
       "        text-align: right;\n",
       "    }\n",
       "</style>\n",
       "<table border=\"1\" class=\"dataframe\">\n",
       "  <thead>\n",
       "    <tr style=\"text-align: right;\">\n",
       "      <th></th>\n",
       "      <th>tag</th>\n",
       "      <th>old_class</th>\n",
       "      <th>old_2</th>\n",
       "    </tr>\n",
       "  </thead>\n",
       "  <tbody>\n",
       "    <tr>\n",
       "      <th>0</th>\n",
       "      <td>role play</td>\n",
       "      <td>社会科学</td>\n",
       "      <td>NaN</td>\n",
       "    </tr>\n",
       "    <tr>\n",
       "      <th>1</th>\n",
       "      <td>Supervised learning</td>\n",
       "      <td>计算机</td>\n",
       "      <td>NaN</td>\n",
       "    </tr>\n",
       "    <tr>\n",
       "      <th>2</th>\n",
       "      <td>Endorsements</td>\n",
       "      <td>社会科学</td>\n",
       "      <td>NaN</td>\n",
       "    </tr>\n",
       "    <tr>\n",
       "      <th>3</th>\n",
       "      <td>Intrusion detection</td>\n",
       "      <td>计算机</td>\n",
       "      <td>NaN</td>\n",
       "    </tr>\n",
       "    <tr>\n",
       "      <th>4</th>\n",
       "      <td>incentive</td>\n",
       "      <td>社会科学</td>\n",
       "      <td>NaN</td>\n",
       "    </tr>\n",
       "    <tr>\n",
       "      <th>...</th>\n",
       "      <td>...</td>\n",
       "      <td>...</td>\n",
       "      <td>...</td>\n",
       "    </tr>\n",
       "    <tr>\n",
       "      <th>954</th>\n",
       "      <td>touch</td>\n",
       "      <td>待定</td>\n",
       "      <td>NaN</td>\n",
       "    </tr>\n",
       "    <tr>\n",
       "      <th>955</th>\n",
       "      <td>twenty-first century</td>\n",
       "      <td>待定</td>\n",
       "      <td>NaN</td>\n",
       "    </tr>\n",
       "    <tr>\n",
       "      <th>956</th>\n",
       "      <td>vulnerability</td>\n",
       "      <td>待定</td>\n",
       "      <td>NaN</td>\n",
       "    </tr>\n",
       "    <tr>\n",
       "      <th>957</th>\n",
       "      <td>walking</td>\n",
       "      <td>待定</td>\n",
       "      <td>NaN</td>\n",
       "    </tr>\n",
       "    <tr>\n",
       "      <th>958</th>\n",
       "      <td>washing</td>\n",
       "      <td>待定</td>\n",
       "      <td>NaN</td>\n",
       "    </tr>\n",
       "  </tbody>\n",
       "</table>\n",
       "<p>2960 rows × 3 columns</p>\n",
       "</div>"
      ],
      "text/plain": [
       "                      tag old_class old_2\n",
       "0               role play      社会科学   NaN\n",
       "1     Supervised learning       计算机   NaN\n",
       "2            Endorsements      社会科学   NaN\n",
       "3     Intrusion detection       计算机   NaN\n",
       "4               incentive      社会科学   NaN\n",
       "..                    ...       ...   ...\n",
       "954                 touch        待定   NaN\n",
       "955  twenty-first century        待定   NaN\n",
       "956         vulnerability        待定   NaN\n",
       "957               walking        待定   NaN\n",
       "958               washing        待定   NaN\n",
       "\n",
       "[2960 rows x 3 columns]"
      ]
     },
     "execution_count": 10,
     "metadata": {},
     "output_type": "execute_result"
    }
   ],
   "source": [
    "final_df"
   ]
  },
  {
   "cell_type": "code",
   "execution_count": 11,
   "id": "f8710155",
   "metadata": {},
   "outputs": [],
   "source": [
    "final_df = final_df.replace(['', ' ', '待定'], [np.nan]*3)"
   ]
  },
  {
   "cell_type": "code",
   "execution_count": 12,
   "id": "995d6847",
   "metadata": {},
   "outputs": [],
   "source": [
    "tmp = final_df[final_df['old_2'].notna()][['tag','old_2']].rename(columns={'old_2':'old_class'})"
   ]
  },
  {
   "cell_type": "code",
   "execution_count": 13,
   "id": "2afaf2c9",
   "metadata": {},
   "outputs": [],
   "source": [
    "final_df = final_df.append(tmp)"
   ]
  },
  {
   "cell_type": "code",
   "execution_count": 14,
   "id": "c8c04419",
   "metadata": {},
   "outputs": [],
   "source": [
    "final_df = final_df.drop('old_2', axis=1)"
   ]
  },
  {
   "cell_type": "code",
   "execution_count": 16,
   "id": "5c261dc2",
   "metadata": {},
   "outputs": [],
   "source": [
    "final_df['tag'] = final_df['tag'].str.lower()"
   ]
  },
  {
   "cell_type": "code",
   "execution_count": 18,
   "id": "133d4589",
   "metadata": {},
   "outputs": [],
   "source": [
    "merge_df = final_df.merge(mapping_df, left_on='old_class', right_on='category', how = 'left')"
   ]
  },
  {
   "cell_type": "code",
   "execution_count": 19,
   "id": "99dc4137",
   "metadata": {},
   "outputs": [
    {
     "data": {
      "text/html": [
       "<div>\n",
       "<style scoped>\n",
       "    .dataframe tbody tr th:only-of-type {\n",
       "        vertical-align: middle;\n",
       "    }\n",
       "\n",
       "    .dataframe tbody tr th {\n",
       "        vertical-align: top;\n",
       "    }\n",
       "\n",
       "    .dataframe thead th {\n",
       "        text-align: right;\n",
       "    }\n",
       "</style>\n",
       "<table border=\"1\" class=\"dataframe\">\n",
       "  <thead>\n",
       "    <tr style=\"text-align: right;\">\n",
       "      <th></th>\n",
       "      <th>tag</th>\n",
       "      <th>old_class</th>\n",
       "      <th>category</th>\n",
       "      <th>Australian standard</th>\n",
       "    </tr>\n",
       "  </thead>\n",
       "  <tbody>\n",
       "    <tr>\n",
       "      <th>0</th>\n",
       "      <td>role play</td>\n",
       "      <td>社会科学</td>\n",
       "      <td>社会科学</td>\n",
       "      <td>DIVISION 14 ECONOMICS</td>\n",
       "    </tr>\n",
       "    <tr>\n",
       "      <th>1</th>\n",
       "      <td>role play</td>\n",
       "      <td>社会科学</td>\n",
       "      <td>社会科学</td>\n",
       "      <td>DIVISION 13 EDUCATION</td>\n",
       "    </tr>\n",
       "    <tr>\n",
       "      <th>2</th>\n",
       "      <td>role play</td>\n",
       "      <td>社会科学</td>\n",
       "      <td>社会科学</td>\n",
       "      <td>DIVISION 15 COMMERCE</td>\n",
       "    </tr>\n",
       "    <tr>\n",
       "      <th>3</th>\n",
       "      <td>role play</td>\n",
       "      <td>社会科学</td>\n",
       "      <td>社会科学</td>\n",
       "      <td>MANAGEMENT</td>\n",
       "    </tr>\n",
       "    <tr>\n",
       "      <th>4</th>\n",
       "      <td>role play</td>\n",
       "      <td>社会科学</td>\n",
       "      <td>社会科学</td>\n",
       "      <td>TOURISM AND SERVICES</td>\n",
       "    </tr>\n",
       "    <tr>\n",
       "      <th>...</th>\n",
       "      <td>...</td>\n",
       "      <td>...</td>\n",
       "      <td>...</td>\n",
       "      <td>...</td>\n",
       "    </tr>\n",
       "    <tr>\n",
       "      <th>13928</th>\n",
       "      <td>soldier</td>\n",
       "      <td>社会科学</td>\n",
       "      <td>社会科学</td>\n",
       "      <td>DIVISION 21 HISTORY AND ARCHAEOLOGY</td>\n",
       "    </tr>\n",
       "    <tr>\n",
       "      <th>13929</th>\n",
       "      <td>soldier</td>\n",
       "      <td>社会科学</td>\n",
       "      <td>社会科学</td>\n",
       "      <td>DIVISION 22 PHILOSOPHY AND RELIGIOUS STUDIES</td>\n",
       "    </tr>\n",
       "    <tr>\n",
       "      <th>13930</th>\n",
       "      <td>lakes</td>\n",
       "      <td>农林牧渔</td>\n",
       "      <td>农林牧渔</td>\n",
       "      <td>DIVISION 07 AGRICULTURAL AND VETERINARY SCIENCES</td>\n",
       "    </tr>\n",
       "    <tr>\n",
       "      <th>13931</th>\n",
       "      <td>hydrological change</td>\n",
       "      <td>土建水利</td>\n",
       "      <td>土建水利</td>\n",
       "      <td>DIVISION 12 BUILT ENVIRONMENT AND DESIGN</td>\n",
       "    </tr>\n",
       "    <tr>\n",
       "      <th>13932</th>\n",
       "      <td>rivers</td>\n",
       "      <td>环境科学</td>\n",
       "      <td>环境科学</td>\n",
       "      <td>DIVISION 05 ENVIRONMENTAL SCIENCES</td>\n",
       "    </tr>\n",
       "  </tbody>\n",
       "</table>\n",
       "<p>13933 rows × 4 columns</p>\n",
       "</div>"
      ],
      "text/plain": [
       "                       tag old_class category  \\\n",
       "0                role play      社会科学     社会科学   \n",
       "1                role play      社会科学     社会科学   \n",
       "2                role play      社会科学     社会科学   \n",
       "3                role play      社会科学     社会科学   \n",
       "4                role play      社会科学     社会科学   \n",
       "...                    ...       ...      ...   \n",
       "13928              soldier      社会科学     社会科学   \n",
       "13929              soldier      社会科学     社会科学   \n",
       "13930                lakes      农林牧渔     农林牧渔   \n",
       "13931  hydrological change      土建水利     土建水利   \n",
       "13932               rivers      环境科学     环境科学   \n",
       "\n",
       "                                    Australian standard  \n",
       "0                                 DIVISION 14 ECONOMICS  \n",
       "1                                 DIVISION 13 EDUCATION  \n",
       "2                                  DIVISION 15 COMMERCE  \n",
       "3                                            MANAGEMENT  \n",
       "4                                  TOURISM AND SERVICES  \n",
       "...                                                 ...  \n",
       "13928               DIVISION 21 HISTORY AND ARCHAEOLOGY  \n",
       "13929      DIVISION 22 PHILOSOPHY AND RELIGIOUS STUDIES  \n",
       "13930  DIVISION 07 AGRICULTURAL AND VETERINARY SCIENCES  \n",
       "13931          DIVISION 12 BUILT ENVIRONMENT AND DESIGN  \n",
       "13932                DIVISION 05 ENVIRONMENTAL SCIENCES  \n",
       "\n",
       "[13933 rows x 4 columns]"
      ]
     },
     "execution_count": 19,
     "metadata": {},
     "output_type": "execute_result"
    }
   ],
   "source": [
    "merge_df"
   ]
  },
  {
   "cell_type": "code",
   "execution_count": 20,
   "id": "f58aea64",
   "metadata": {},
   "outputs": [],
   "source": [
    "merge_df.groupby('tag')['Australian standard'].apply(lambda x: list(set(x))).reset_index().to_csv('mapping_result_2.csv', index=0, encoding='utf-8_sig')"
   ]
  },
  {
   "cell_type": "code",
   "execution_count": 27,
   "id": "2394706c",
   "metadata": {},
   "outputs": [],
   "source": [
    "test_df = final_df.groupby('tag')['old_class'].apply(lambda x: list(set(x))).reset_index()"
   ]
  },
  {
   "cell_type": "code",
   "execution_count": 22,
   "id": "3ca1d02f",
   "metadata": {},
   "outputs": [],
   "source": [
    "merge_df.to_csv('mapping_result.csv', index=0, encoding='utf-8_sig')"
   ]
  },
  {
   "cell_type": "code",
   "execution_count": null,
   "id": "13e8ece5",
   "metadata": {},
   "outputs": [],
   "source": []
  }
 ],
 "metadata": {
  "kernelspec": {
   "display_name": "Python 3 (ipykernel)",
   "language": "python",
   "name": "python3"
  },
  "language_info": {
   "codemirror_mode": {
    "name": "ipython",
    "version": 3
   },
   "file_extension": ".py",
   "mimetype": "text/x-python",
   "name": "python",
   "nbconvert_exporter": "python",
   "pygments_lexer": "ipython3",
   "version": "3.9.0"
  }
 },
 "nbformat": 4,
 "nbformat_minor": 5
}
